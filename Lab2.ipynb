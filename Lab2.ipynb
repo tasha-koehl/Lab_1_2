{
 "cells": [
  {
   "cell_type": "code",
   "execution_count": 31,
   "id": "1e40222b-4674-4c40-8cf6-482ddc403516",
   "metadata": {},
   "outputs": [
    {
     "name": "stdout",
     "output_type": "stream",
     "text": [
      "Requirement already satisfied: polars[all] in c:\\users\\jb5983on\\appdata\\local\\anaconda3\\envs\\polars\\lib\\site-packages (1.6.0)\n",
      "Requirement already satisfied: numpy>=1.16.0 in c:\\users\\jb5983on\\appdata\\local\\anaconda3\\envs\\polars\\lib\\site-packages (from polars[all]) (2.1.0)\n",
      "Requirement already satisfied: pandas in c:\\users\\jb5983on\\appdata\\local\\anaconda3\\envs\\polars\\lib\\site-packages (from polars[all]) (2.2.2)\n",
      "Requirement already satisfied: pyarrow>=7.0.0 in c:\\users\\jb5983on\\appdata\\local\\anaconda3\\envs\\polars\\lib\\site-packages (from polars[all]) (17.0.0)\n",
      "Requirement already satisfied: pydantic in c:\\users\\jb5983on\\appdata\\local\\anaconda3\\envs\\polars\\lib\\site-packages (from polars[all]) (2.8.2)\n",
      "Requirement already satisfied: nest-asyncio in c:\\users\\jb5983on\\appdata\\local\\anaconda3\\envs\\polars\\lib\\site-packages (from polars[all]) (1.6.0)\n",
      "Requirement already satisfied: fsspec in c:\\users\\jb5983on\\appdata\\local\\anaconda3\\envs\\polars\\lib\\site-packages (from polars[all]) (2024.6.1)\n",
      "Requirement already satisfied: deltalake>=0.15.0 in c:\\users\\jb5983on\\appdata\\local\\anaconda3\\envs\\polars\\lib\\site-packages (from polars[all]) (0.19.1)\n",
      "Requirement already satisfied: pyiceberg>=0.5.0 in c:\\users\\jb5983on\\appdata\\local\\anaconda3\\envs\\polars\\lib\\site-packages (from polars[all]) (0.7.1)\n",
      "Requirement already satisfied: gevent in c:\\users\\jb5983on\\appdata\\local\\anaconda3\\envs\\polars\\lib\\site-packages (from polars[all]) (24.2.1)\n",
      "Requirement already satisfied: cloudpickle in c:\\users\\jb5983on\\appdata\\local\\anaconda3\\envs\\polars\\lib\\site-packages (from polars[all]) (3.0.0)\n",
      "Requirement already satisfied: matplotlib in c:\\users\\jb5983on\\appdata\\local\\anaconda3\\envs\\polars\\lib\\site-packages (from polars[all]) (3.9.2)\n",
      "Requirement already satisfied: altair>=5.4.0 in c:\\users\\jb5983on\\appdata\\local\\anaconda3\\envs\\polars\\lib\\site-packages (from polars[all]) (5.4.1)\n",
      "Requirement already satisfied: great-tables>=0.8.0 in c:\\users\\jb5983on\\appdata\\local\\anaconda3\\envs\\polars\\lib\\site-packages (from polars[all]) (0.11.0)\n",
      "Requirement already satisfied: tzdata in c:\\users\\jb5983on\\appdata\\local\\anaconda3\\envs\\polars\\lib\\site-packages (from polars[all]) (2024.1)\n",
      "Requirement already satisfied: jinja2 in c:\\users\\jb5983on\\appdata\\local\\anaconda3\\envs\\polars\\lib\\site-packages (from altair>=5.4.0->polars[all]) (3.1.4)\n",
      "Requirement already satisfied: jsonschema>=3.0 in c:\\users\\jb5983on\\appdata\\local\\anaconda3\\envs\\polars\\lib\\site-packages (from altair>=5.4.0->polars[all]) (4.23.0)\n",
      "Requirement already satisfied: narwhals>=1.5.2 in c:\\users\\jb5983on\\appdata\\local\\anaconda3\\envs\\polars\\lib\\site-packages (from altair>=5.4.0->polars[all]) (1.6.2)\n",
      "Requirement already satisfied: packaging in c:\\users\\jb5983on\\appdata\\local\\anaconda3\\envs\\polars\\lib\\site-packages (from altair>=5.4.0->polars[all]) (24.1)\n",
      "Requirement already satisfied: typing-extensions>=4.10.0 in c:\\users\\jb5983on\\appdata\\local\\anaconda3\\envs\\polars\\lib\\site-packages (from altair>=5.4.0->polars[all]) (4.12.2)\n",
      "Requirement already satisfied: commonmark>=0.9.1 in c:\\users\\jb5983on\\appdata\\local\\anaconda3\\envs\\polars\\lib\\site-packages (from great-tables>=0.8.0->polars[all]) (0.9.1)\n",
      "Requirement already satisfied: htmltools>=0.4.1 in c:\\users\\jb5983on\\appdata\\local\\anaconda3\\envs\\polars\\lib\\site-packages (from great-tables>=0.8.0->polars[all]) (0.5.3)\n",
      "Requirement already satisfied: importlib-metadata in c:\\users\\jb5983on\\appdata\\local\\anaconda3\\envs\\polars\\lib\\site-packages (from great-tables>=0.8.0->polars[all]) (8.4.0)\n",
      "Requirement already satisfied: Babel>=2.13.1 in c:\\users\\jb5983on\\appdata\\local\\anaconda3\\envs\\polars\\lib\\site-packages (from great-tables>=0.8.0->polars[all]) (2.14.0)\n",
      "Requirement already satisfied: importlib-resources in c:\\users\\jb5983on\\appdata\\local\\anaconda3\\envs\\polars\\lib\\site-packages (from great-tables>=0.8.0->polars[all]) (6.4.4)\n",
      "Requirement already satisfied: click<9.0.0,>=7.1.1 in c:\\users\\jb5983on\\appdata\\local\\anaconda3\\envs\\polars\\lib\\site-packages (from pyiceberg>=0.5.0->polars[all]) (8.1.7)\n",
      "Requirement already satisfied: mmh3<5.0.0,>=4.0.0 in c:\\users\\jb5983on\\appdata\\local\\anaconda3\\envs\\polars\\lib\\site-packages (from pyiceberg>=0.5.0->polars[all]) (4.1.0)\n",
      "Requirement already satisfied: pyparsing<4.0.0,>=3.1.0 in c:\\users\\jb5983on\\appdata\\local\\anaconda3\\envs\\polars\\lib\\site-packages (from pyiceberg>=0.5.0->polars[all]) (3.1.4)\n",
      "Requirement already satisfied: requests<3.0.0,>=2.20.0 in c:\\users\\jb5983on\\appdata\\local\\anaconda3\\envs\\polars\\lib\\site-packages (from pyiceberg>=0.5.0->polars[all]) (2.32.3)\n",
      "Requirement already satisfied: rich<14.0.0,>=10.11.0 in c:\\users\\jb5983on\\appdata\\local\\anaconda3\\envs\\polars\\lib\\site-packages (from pyiceberg>=0.5.0->polars[all]) (13.8.0)\n",
      "Requirement already satisfied: sortedcontainers==2.4.0 in c:\\users\\jb5983on\\appdata\\local\\anaconda3\\envs\\polars\\lib\\site-packages (from pyiceberg>=0.5.0->polars[all]) (2.4.0)\n",
      "Requirement already satisfied: strictyaml<2.0.0,>=1.7.0 in c:\\users\\jb5983on\\appdata\\local\\anaconda3\\envs\\polars\\lib\\site-packages (from pyiceberg>=0.5.0->polars[all]) (1.7.3)\n",
      "Requirement already satisfied: tenacity<9.0.0,>=8.2.3 in c:\\users\\jb5983on\\appdata\\local\\anaconda3\\envs\\polars\\lib\\site-packages (from pyiceberg>=0.5.0->polars[all]) (8.5.0)\n",
      "Requirement already satisfied: annotated-types>=0.4.0 in c:\\users\\jb5983on\\appdata\\local\\anaconda3\\envs\\polars\\lib\\site-packages (from pydantic->polars[all]) (0.7.0)\n",
      "Requirement already satisfied: pydantic-core==2.20.1 in c:\\users\\jb5983on\\appdata\\local\\anaconda3\\envs\\polars\\lib\\site-packages (from pydantic->polars[all]) (2.20.1)\n",
      "Requirement already satisfied: zope.event in c:\\users\\jb5983on\\appdata\\local\\anaconda3\\envs\\polars\\lib\\site-packages (from gevent->polars[all]) (5.0)\n",
      "Requirement already satisfied: zope.interface in c:\\users\\jb5983on\\appdata\\local\\anaconda3\\envs\\polars\\lib\\site-packages (from gevent->polars[all]) (7.0.3)\n",
      "Requirement already satisfied: greenlet>=3.0rc3 in c:\\users\\jb5983on\\appdata\\local\\anaconda3\\envs\\polars\\lib\\site-packages (from gevent->polars[all]) (3.0.3)\n",
      "Requirement already satisfied: cffi>=1.12.2 in c:\\users\\jb5983on\\appdata\\local\\anaconda3\\envs\\polars\\lib\\site-packages (from gevent->polars[all]) (1.17.0)\n",
      "Requirement already satisfied: contourpy>=1.0.1 in c:\\users\\jb5983on\\appdata\\local\\anaconda3\\envs\\polars\\lib\\site-packages (from matplotlib->polars[all]) (1.3.0)\n",
      "Requirement already satisfied: cycler>=0.10 in c:\\users\\jb5983on\\appdata\\local\\anaconda3\\envs\\polars\\lib\\site-packages (from matplotlib->polars[all]) (0.12.1)\n",
      "Requirement already satisfied: fonttools>=4.22.0 in c:\\users\\jb5983on\\appdata\\local\\anaconda3\\envs\\polars\\lib\\site-packages (from matplotlib->polars[all]) (4.53.1)\n",
      "Requirement already satisfied: kiwisolver>=1.3.1 in c:\\users\\jb5983on\\appdata\\local\\anaconda3\\envs\\polars\\lib\\site-packages (from matplotlib->polars[all]) (1.4.5)\n",
      "Requirement already satisfied: pillow>=8 in c:\\users\\jb5983on\\appdata\\local\\anaconda3\\envs\\polars\\lib\\site-packages (from matplotlib->polars[all]) (10.4.0)\n",
      "Requirement already satisfied: python-dateutil>=2.7 in c:\\users\\jb5983on\\appdata\\local\\anaconda3\\envs\\polars\\lib\\site-packages (from matplotlib->polars[all]) (2.9.0)\n",
      "Requirement already satisfied: pytz>=2020.1 in c:\\users\\jb5983on\\appdata\\local\\anaconda3\\envs\\polars\\lib\\site-packages (from pandas->polars[all]) (2024.1)\n",
      "Requirement already satisfied: adbc-driver-manager[dbapi] in c:\\users\\jb5983on\\appdata\\local\\anaconda3\\envs\\polars\\lib\\site-packages (from polars[all]) (1.1.0)\n",
      "Requirement already satisfied: adbc-driver-sqlite[dbapi] in c:\\users\\jb5983on\\appdata\\local\\anaconda3\\envs\\polars\\lib\\site-packages (from polars[all]) (1.1.0)\n",
      "Requirement already satisfied: connectorx>=0.3.2 in c:\\users\\jb5983on\\appdata\\local\\anaconda3\\envs\\polars\\lib\\site-packages (from polars[all]) (0.3.3)\n",
      "Requirement already satisfied: sqlalchemy in c:\\users\\jb5983on\\appdata\\local\\anaconda3\\envs\\polars\\lib\\site-packages (from polars[all]) (2.0.33)\n",
      "Requirement already satisfied: fastexcel>=0.9 in c:\\users\\jb5983on\\appdata\\local\\anaconda3\\envs\\polars\\lib\\site-packages (from polars[all]) (0.11.6)\n",
      "Requirement already satisfied: openpyxl>=3.0.0 in c:\\users\\jb5983on\\appdata\\local\\anaconda3\\envs\\polars\\lib\\site-packages (from polars[all]) (3.1.5)\n",
      "Requirement already satisfied: xlsx2csv>=0.8.0 in c:\\users\\jb5983on\\appdata\\local\\anaconda3\\envs\\polars\\lib\\site-packages (from polars[all]) (0.8.3)\n",
      "Requirement already satisfied: xlsxwriter in c:\\users\\jb5983on\\appdata\\local\\anaconda3\\envs\\polars\\lib\\site-packages (from polars[all]) (3.2.0)\n",
      "Requirement already satisfied: pycparser in c:\\users\\jb5983on\\appdata\\local\\anaconda3\\envs\\polars\\lib\\site-packages (from cffi>=1.12.2->gevent->polars[all]) (2.22)\n",
      "Requirement already satisfied: colorama in c:\\users\\jb5983on\\appdata\\local\\anaconda3\\envs\\polars\\lib\\site-packages (from click<9.0.0,>=7.1.1->pyiceberg>=0.5.0->polars[all]) (0.4.6)\n",
      "Requirement already satisfied: attrs>=22.2.0 in c:\\users\\jb5983on\\appdata\\local\\anaconda3\\envs\\polars\\lib\\site-packages (from jsonschema>=3.0->altair>=5.4.0->polars[all]) (24.2.0)\n",
      "Requirement already satisfied: jsonschema-specifications>=2023.03.6 in c:\\users\\jb5983on\\appdata\\local\\anaconda3\\envs\\polars\\lib\\site-packages (from jsonschema>=3.0->altair>=5.4.0->polars[all]) (2023.12.1)\n",
      "Requirement already satisfied: referencing>=0.28.4 in c:\\users\\jb5983on\\appdata\\local\\anaconda3\\envs\\polars\\lib\\site-packages (from jsonschema>=3.0->altair>=5.4.0->polars[all]) (0.35.1)\n",
      "Requirement already satisfied: rpds-py>=0.7.1 in c:\\users\\jb5983on\\appdata\\local\\anaconda3\\envs\\polars\\lib\\site-packages (from jsonschema>=3.0->altair>=5.4.0->polars[all]) (0.20.0)\n",
      "Requirement already satisfied: et-xmlfile in c:\\users\\jb5983on\\appdata\\local\\anaconda3\\envs\\polars\\lib\\site-packages (from openpyxl>=3.0.0->polars[all]) (1.1.0)\n",
      "Requirement already satisfied: six>=1.5 in c:\\users\\jb5983on\\appdata\\local\\anaconda3\\envs\\polars\\lib\\site-packages (from python-dateutil>=2.7->matplotlib->polars[all]) (1.16.0)\n",
      "Requirement already satisfied: charset-normalizer<4,>=2 in c:\\users\\jb5983on\\appdata\\local\\anaconda3\\envs\\polars\\lib\\site-packages (from requests<3.0.0,>=2.20.0->pyiceberg>=0.5.0->polars[all]) (3.3.2)\n",
      "Requirement already satisfied: idna<4,>=2.5 in c:\\users\\jb5983on\\appdata\\local\\anaconda3\\envs\\polars\\lib\\site-packages (from requests<3.0.0,>=2.20.0->pyiceberg>=0.5.0->polars[all]) (3.8)\n",
      "Requirement already satisfied: urllib3<3,>=1.21.1 in c:\\users\\jb5983on\\appdata\\local\\anaconda3\\envs\\polars\\lib\\site-packages (from requests<3.0.0,>=2.20.0->pyiceberg>=0.5.0->polars[all]) (2.2.2)\n",
      "Requirement already satisfied: certifi>=2017.4.17 in c:\\users\\jb5983on\\appdata\\local\\anaconda3\\envs\\polars\\lib\\site-packages (from requests<3.0.0,>=2.20.0->pyiceberg>=0.5.0->polars[all]) (2024.8.30)\n",
      "Requirement already satisfied: markdown-it-py>=2.2.0 in c:\\users\\jb5983on\\appdata\\local\\anaconda3\\envs\\polars\\lib\\site-packages (from rich<14.0.0,>=10.11.0->pyiceberg>=0.5.0->polars[all]) (3.0.0)\n",
      "Requirement already satisfied: pygments<3.0.0,>=2.13.0 in c:\\users\\jb5983on\\appdata\\local\\anaconda3\\envs\\polars\\lib\\site-packages (from rich<14.0.0,>=10.11.0->pyiceberg>=0.5.0->polars[all]) (2.18.0)\n",
      "Requirement already satisfied: zipp>=0.5 in c:\\users\\jb5983on\\appdata\\local\\anaconda3\\envs\\polars\\lib\\site-packages (from importlib-metadata->great-tables>=0.8.0->polars[all]) (3.20.1)\n",
      "Requirement already satisfied: MarkupSafe>=2.0 in c:\\users\\jb5983on\\appdata\\local\\anaconda3\\envs\\polars\\lib\\site-packages (from jinja2->altair>=5.4.0->polars[all]) (2.1.5)\n",
      "Requirement already satisfied: setuptools in c:\\users\\jb5983on\\appdata\\local\\anaconda3\\envs\\polars\\lib\\site-packages (from zope.event->gevent->polars[all]) (72.2.0)\n",
      "Requirement already satisfied: mdurl~=0.1 in c:\\users\\jb5983on\\appdata\\local\\anaconda3\\envs\\polars\\lib\\site-packages (from markdown-it-py>=2.2.0->rich<14.0.0,>=10.11.0->pyiceberg>=0.5.0->polars[all]) (0.1.2)\n",
      "Requirement already satisfied: more_polars in c:\\users\\jb5983on\\appdata\\local\\anaconda3\\envs\\polars\\lib\\site-packages (0.3.0)\n",
      "Requirement already satisfied: composable>=0.5.4 in c:\\users\\jb5983on\\appdata\\local\\anaconda3\\envs\\polars\\lib\\site-packages (from more_polars) (0.5.4)\n",
      "Requirement already satisfied: polars>=0.14.26 in c:\\users\\jb5983on\\appdata\\local\\anaconda3\\envs\\polars\\lib\\site-packages (from more_polars) (1.6.0)\n",
      "Requirement already satisfied: python-forge<19.0,>=18.6 in c:\\users\\jb5983on\\appdata\\local\\anaconda3\\envs\\polars\\lib\\site-packages (from composable>=0.5.4->more_polars) (18.6.0)\n",
      "Requirement already satisfied: toolz<0.12.0,>=0.11.1 in c:\\users\\jb5983on\\appdata\\local\\anaconda3\\envs\\polars\\lib\\site-packages (from composable>=0.5.4->more_polars) (0.11.2)\n"
     ]
    }
   ],
   "source": [
    "import polars as pl\n",
    "!pip install \"polars[all]\"\n",
    "!pip install more_polars"
   ]
  },
  {
   "cell_type": "code",
   "execution_count": 90,
   "id": "0b12bdc6-b4cd-4ee2-bcb7-c63d24fcafd4",
   "metadata": {},
   "outputs": [
    {
     "data": {
      "text/html": [
       "<div><style>\n",
       ".dataframe > thead > tr,\n",
       ".dataframe > tbody > tr {\n",
       "  text-align: right;\n",
       "  white-space: pre-wrap;\n",
       "}\n",
       "</style>\n",
       "<small>shape: (3, 45)</small><table border=\"1\" class=\"dataframe\"><thead><tr><th>ID</th><th>F1</th><th>F5</th><th>F2</th><th>F1.1</th><th>F2.1</th><th>F6</th><th>F4</th><th>F3</th><th>F5.1</th><th>F1.2</th><th>F2.2</th><th>F6.1</th><th>F2.3</th><th>F4.1</th><th>F2.4</th><th>F5.2</th><th>F2.5</th><th>F6.2</th><th>F1.3</th><th>F2.6</th><th>F5.3</th><th>F4.2</th><th>F2.7</th><th>F3.1</th><th>F2.8</th><th>F5.4</th><th>F3.2</th><th>F1.4</th><th>F3.3</th><th>F1.5</th><th>F5.5</th><th>F6.3</th><th>F1.6</th><th>F5.6</th><th>F2.9</th><th>F3.4</th><th>F4.3</th><th>F2.10</th><th>F1.7</th><th>F6.4</th><th>F4.4</th><th>F5.7</th><th>F3.5</th><th>F2.11</th></tr><tr><td>i64</td><td>str</td><td>str</td><td>str</td><td>str</td><td>str</td><td>str</td><td>str</td><td>str</td><td>str</td><td>str</td><td>str</td><td>str</td><td>str</td><td>str</td><td>str</td><td>str</td><td>str</td><td>str</td><td>str</td><td>str</td><td>str</td><td>str</td><td>str</td><td>str</td><td>str</td><td>str</td><td>str</td><td>str</td><td>str</td><td>str</td><td>str</td><td>str</td><td>str</td><td>str</td><td>str</td><td>str</td><td>str</td><td>str</td><td>str</td><td>str</td><td>str</td><td>str</td><td>str</td><td>str</td></tr></thead><tbody><tr><td>1</td><td>&quot;Somewhat Agree&quot;</td><td>&quot;Somewhat Disagree&quot;</td><td>&quot;Somewhat Agree&quot;</td><td>&quot;Somewhat Agree&quot;</td><td>&quot;Somewhat Agree&quot;</td><td>&quot;Somewhat Disagree&quot;</td><td>&quot;Somewhat Agree&quot;</td><td>&quot;Somewhat Agree&quot;</td><td>&quot;Somewhat Agree&quot;</td><td>&quot;Somewhat Agree&quot;</td><td>&quot;Somewhat Agree&quot;</td><td>&quot;Somewhat Agree&quot;</td><td>&quot;Somewhat Agree&quot;</td><td>&quot;Somewhat Agree&quot;</td><td>&quot;Somewhat Agree&quot;</td><td>&quot;Somewhat Agree&quot;</td><td>&quot;Somewhat Agree&quot;</td><td>&quot;Somewhat Agree&quot;</td><td>&quot;Somewhat Agree&quot;</td><td>&quot;Somewhat Agree&quot;</td><td>&quot;Somewhat Agree&quot;</td><td>&quot;Somewhat Agree&quot;</td><td>&quot;Somewhat Agree&quot;</td><td>&quot;Somewhat Disagree&quot;</td><td>&quot;Somewhat Agree&quot;</td><td>&quot;Somewhat Agree&quot;</td><td>&quot;Somewhat Agree&quot;</td><td>&quot;Neither Agree nor Disagree&quot;</td><td>&quot;Somewhat Agree&quot;</td><td>&quot;Somewhat Agree&quot;</td><td>&quot;Somewhat Disagree&quot;</td><td>&quot;Somewhat Disagree&quot;</td><td>&quot;Somewhat Agree&quot;</td><td>&quot;Somewhat Agree&quot;</td><td>&quot;Somewhat Agree&quot;</td><td>&quot;Somewhat Disagree&quot;</td><td>&quot;Neither Agree nor Disagree&quot;</td><td>&quot;Somewhat Agree&quot;</td><td>&quot;Somewhat Agree&quot;</td><td>&quot;Somewhat Agree&quot;</td><td>&quot;Somewhat Agree&quot;</td><td>&quot;Somewhat Agree&quot;</td><td>&quot;Somewhat Agree&quot;</td><td>&quot;Somewhat Agree&quot;</td></tr><tr><td>2</td><td>&quot;Somewhat Agree&quot;</td><td>&quot;Somewhat Disagree&quot;</td><td>&quot;Somewhat Agree&quot;</td><td>&quot;Somewhat Agree&quot;</td><td>&quot;Somewhat Agree&quot;</td><td>&quot;Somewhat Disagree&quot;</td><td>&quot;Somewhat Agree&quot;</td><td>&quot;Neither Agree nor Disagree&quot;</td><td>&quot;Neither Agree nor Disagree&quot;</td><td>&quot;Somewhat Agree&quot;</td><td>&quot;Neither Agree nor Disagree&quot;</td><td>&quot;Somewhat Agree&quot;</td><td>&quot;Somewhat Agree&quot;</td><td>&quot;Neither Agree nor Disagree&quot;</td><td>&quot;Somewhat Agree&quot;</td><td>&quot;Somewhat Agree&quot;</td><td>&quot;Somewhat Agree&quot;</td><td>&quot;Somewhat Agree&quot;</td><td>&quot;Somewhat Agree&quot;</td><td>&quot;Somewhat Agree&quot;</td><td>&quot;Somewhat Agree&quot;</td><td>&quot;Somewhat Agree&quot;</td><td>&quot;Somewhat Agree&quot;</td><td>&quot;Neither Agree nor Disagree&quot;</td><td>&quot;Somewhat Agree&quot;</td><td>&quot;Neither Agree nor Disagree&quot;</td><td>&quot;Neither Agree nor Disagree&quot;</td><td>&quot;Somewhat Agree&quot;</td><td>&quot;Neither Agree nor Disagree&quot;</td><td>&quot;Neither Agree nor Disagree&quot;</td><td>&quot;Neither Agree nor Disagree&quot;</td><td>&quot;Somewhat Disagree&quot;</td><td>&quot;Somewhat Agree&quot;</td><td>&quot;Somewhat Disagree&quot;</td><td>&quot;Somewhat Agree&quot;</td><td>&quot;Somewhat Agree&quot;</td><td>&quot;Neither Agree nor Disagree&quot;</td><td>&quot;Somewhat Agree&quot;</td><td>&quot;Somewhat Agree&quot;</td><td>&quot;Somewhat Disagree&quot;</td><td>&quot;Neither Agree nor Disagree&quot;</td><td>&quot;Somewhat Agree&quot;</td><td>&quot;Neither Agree nor Disagree&quot;</td><td>&quot;Somewhat Agree&quot;</td></tr><tr><td>3</td><td>&quot;Strongly Agree&quot;</td><td>&quot;Neither Agree nor Disagree&quot;</td><td>&quot;Somewhat Agree&quot;</td><td>&quot;Strongly Agree&quot;</td><td>&quot;Strongly Agree&quot;</td><td>&quot;Somewhat Disagree&quot;</td><td>&quot;Somewhat Agree&quot;</td><td>&quot;Somewhat Agree&quot;</td><td>&quot;Somewhat Agree&quot;</td><td>&quot;Strongly Agree&quot;</td><td>&quot;Somewhat Agree&quot;</td><td>&quot;Neither Agree nor Disagree&quot;</td><td>&quot;Somewhat Agree&quot;</td><td>&quot;Neither Agree nor Disagree&quot;</td><td>&quot;Somewhat Agree&quot;</td><td>&quot;Somewhat Disagree&quot;</td><td>&quot;Strongly Agree&quot;</td><td>&quot;Somewhat Agree&quot;</td><td>&quot;Strongly Agree&quot;</td><td>&quot;Somewhat Agree&quot;</td><td>&quot;Somewhat Agree&quot;</td><td>&quot;Somewhat Agree&quot;</td><td>&quot;&quot;</td><td>&quot;Somewhat Disagree&quot;</td><td>&quot;Somewhat Agree&quot;</td><td>&quot;Somewhat Agree&quot;</td><td>&quot;Somewhat Agree&quot;</td><td>&quot;Somewhat Disagree&quot;</td><td>&quot;Somewhat Agree&quot;</td><td>&quot;Strongly Agree&quot;</td><td>&quot;Somewhat Disagree&quot;</td><td>&quot;Somewhat Disagree&quot;</td><td>&quot;Strongly Agree&quot;</td><td>&quot;Somewhat Disagree&quot;</td><td>&quot;Somewhat Agree&quot;</td><td>&quot;Somewhat Agree&quot;</td><td>&quot;Neither Agree nor Disagree&quot;</td><td>&quot;Somewhat Agree&quot;</td><td>&quot;Somewhat Agree&quot;</td><td>&quot;Somewhat Agree&quot;</td><td>&quot;Somewhat Agree&quot;</td><td>&quot;Strongly Agree&quot;</td><td>&quot;Strongly Disagree&quot;</td><td>&quot;Somewhat Agree&quot;</td></tr></tbody></table></div>"
      ],
      "text/plain": [
       "shape: (3, 45)\n",
       "┌─────┬────────────┬────────────┬────────────┬───┬────────────┬────────────┬───────────┬───────────┐\n",
       "│ ID  ┆ F1         ┆ F5         ┆ F2         ┆ … ┆ F4.4       ┆ F5.7       ┆ F3.5      ┆ F2.11     │\n",
       "│ --- ┆ ---        ┆ ---        ┆ ---        ┆   ┆ ---        ┆ ---        ┆ ---       ┆ ---       │\n",
       "│ i64 ┆ str        ┆ str        ┆ str        ┆   ┆ str        ┆ str        ┆ str       ┆ str       │\n",
       "╞═════╪════════════╪════════════╪════════════╪═══╪════════════╪════════════╪═══════════╪═══════════╡\n",
       "│ 1   ┆ Somewhat   ┆ Somewhat   ┆ Somewhat   ┆ … ┆ Somewhat   ┆ Somewhat   ┆ Somewhat  ┆ Somewhat  │\n",
       "│     ┆ Agree      ┆ Disagree   ┆ Agree      ┆   ┆ Agree      ┆ Agree      ┆ Agree     ┆ Agree     │\n",
       "│ 2   ┆ Somewhat   ┆ Somewhat   ┆ Somewhat   ┆ … ┆ Neither    ┆ Somewhat   ┆ Neither   ┆ Somewhat  │\n",
       "│     ┆ Agree      ┆ Disagree   ┆ Agree      ┆   ┆ Agree nor  ┆ Agree      ┆ Agree nor ┆ Agree     │\n",
       "│     ┆            ┆            ┆            ┆   ┆ Disagree   ┆            ┆ Disagree  ┆           │\n",
       "│ 3   ┆ Strongly   ┆ Neither    ┆ Somewhat   ┆ … ┆ Somewhat   ┆ Strongly   ┆ Strongly  ┆ Somewhat  │\n",
       "│     ┆ Agree      ┆ Agree nor  ┆ Agree      ┆   ┆ Agree      ┆ Agree      ┆ Disagree  ┆ Agree     │\n",
       "│     ┆            ┆ Disagree   ┆            ┆   ┆            ┆            ┆           ┆           │\n",
       "└─────┴────────────┴────────────┴────────────┴───┴────────────┴────────────┴───────────┴───────────┘"
      ]
     },
     "execution_count": 90,
     "metadata": {},
     "output_type": "execute_result"
    }
   ],
   "source": [
    "healthD = pl.read_csv('./Data/health_survey.csv')\n",
    "healthD = healthD.rename({'':'ID'})\n",
    "\n",
    "healthD.head(3)"
   ]
  },
  {
   "cell_type": "code",
   "execution_count": 50,
   "id": "c7e94e33-e0a6-49aa-88ad-83ff9e87924a",
   "metadata": {},
   "outputs": [
    {
     "data": {
      "text/html": [
       "<div><style>\n",
       ".dataframe > thead > tr,\n",
       ".dataframe > tbody > tr {\n",
       "  text-align: right;\n",
       "  white-space: pre-wrap;\n",
       "}\n",
       "</style>\n",
       "<small>shape: (10, 5)</small><table border=\"1\" class=\"dataframe\"><thead><tr><th>Question</th><th>Construct</th><th>Question # on Qualtrics Survey</th><th>Needs Reverse Coding?</th><th>Column Name</th></tr><tr><td>str</td><td>i64</td><td>i64</td><td>str</td><td>str</td></tr></thead><tbody><tr><td>&quot;In the future, I plan to parti…</td><td>1</td><td>1</td><td>&quot;No&quot;</td><td>&quot;F1&quot;</td></tr><tr><td>&quot;Individuals are responsible fo…</td><td>5</td><td>2</td><td>&quot;Yes&quot;</td><td>&quot;F5&quot;</td></tr><tr><td>&quot;When tryng to understand the p…</td><td>2</td><td>3</td><td>&quot;No&quot;</td><td>&quot;F2&quot;</td></tr><tr><td>&quot;I plan to become involved in m…</td><td>1</td><td>4</td><td>&quot;No&quot;</td><td>&quot;F1.1&quot;</td></tr><tr><td>&quot;I can communicate well with ot…</td><td>2</td><td>5</td><td>&quot;No&quot;</td><td>&quot;F2.1&quot;</td></tr><tr><td>&quot;It is hard for a group to func…</td><td>6</td><td>6</td><td>&quot;Yes&quot;</td><td>&quot;F6&quot;</td></tr><tr><td>&quot;I feel that I can make a diffe…</td><td>4</td><td>7</td><td>&quot;No&quot;</td><td>&quot;F4&quot;</td></tr><tr><td>&quot;I am knowledgable of the issue…</td><td>3</td><td>8</td><td>&quot;No&quot;</td><td>&quot;F3&quot;</td></tr><tr><td>&quot;We need to institute reforms w…</td><td>5</td><td>9</td><td>&quot;No&quot;</td><td>&quot;F5.1&quot;</td></tr><tr><td>&quot;I plan to help others who are …</td><td>1</td><td>10</td><td>&quot;No&quot;</td><td>&quot;F1.2&quot;</td></tr></tbody></table></div>"
      ],
      "text/plain": [
       "shape: (10, 5)\n",
       "┌─────────────────────────────┬───────────┬──────────────────┬───────────────────────┬─────────────┐\n",
       "│ Question                    ┆ Construct ┆ Question # on    ┆ Needs Reverse Coding? ┆ Column Name │\n",
       "│ ---                         ┆ ---       ┆ Qualtrics Survey ┆ ---                   ┆ ---         │\n",
       "│ str                         ┆ i64       ┆ ---              ┆ str                   ┆ str         │\n",
       "│                             ┆           ┆ i64              ┆                       ┆             │\n",
       "╞═════════════════════════════╪═══════════╪══════════════════╪═══════════════════════╪═════════════╡\n",
       "│ In the future, I plan to    ┆ 1         ┆ 1                ┆ No                    ┆ F1          │\n",
       "│ parti…                      ┆           ┆                  ┆                       ┆             │\n",
       "│ Individuals are responsible ┆ 5         ┆ 2                ┆ Yes                   ┆ F5          │\n",
       "│ fo…                         ┆           ┆                  ┆                       ┆             │\n",
       "│ When tryng to understand    ┆ 2         ┆ 3                ┆ No                    ┆ F2          │\n",
       "│ the p…                      ┆           ┆                  ┆                       ┆             │\n",
       "│ I plan to become involved   ┆ 1         ┆ 4                ┆ No                    ┆ F1.1        │\n",
       "│ in m…                       ┆           ┆                  ┆                       ┆             │\n",
       "│ I can communicate well with ┆ 2         ┆ 5                ┆ No                    ┆ F2.1        │\n",
       "│ ot…                         ┆           ┆                  ┆                       ┆             │\n",
       "│ It is hard for a group to   ┆ 6         ┆ 6                ┆ Yes                   ┆ F6          │\n",
       "│ func…                       ┆           ┆                  ┆                       ┆             │\n",
       "│ I feel that I can make a    ┆ 4         ┆ 7                ┆ No                    ┆ F4          │\n",
       "│ diffe…                      ┆           ┆                  ┆                       ┆             │\n",
       "│ I am knowledgable of the    ┆ 3         ┆ 8                ┆ No                    ┆ F3          │\n",
       "│ issue…                      ┆           ┆                  ┆                       ┆             │\n",
       "│ We need to institute        ┆ 5         ┆ 9                ┆ No                    ┆ F5.1        │\n",
       "│ reforms w…                  ┆           ┆                  ┆                       ┆             │\n",
       "│ I plan to help others who   ┆ 1         ┆ 10               ┆ No                    ┆ F1.2        │\n",
       "│ are …                       ┆           ┆                  ┆                       ┆             │\n",
       "└─────────────────────────────┴───────────┴──────────────────┴───────────────────────┴─────────────┘"
      ]
     },
     "execution_count": 50,
     "metadata": {},
     "output_type": "execute_result"
    }
   ],
   "source": [
    "reverseD = pl.read_csv('./Data/ReverseCodingItems.csv')\n",
    "\n",
    "reverseD.head(10)"
   ]
  },
  {
   "cell_type": "code",
   "execution_count": 105,
   "id": "0384b9d8-b48b-48e7-a71a-795d9c6e8ba7",
   "metadata": {},
   "outputs": [
    {
     "data": {
      "text/html": [
       "<div><style>\n",
       ".dataframe > thead > tr,\n",
       ".dataframe > tbody > tr {\n",
       "  text-align: right;\n",
       "  white-space: pre-wrap;\n",
       "}\n",
       "</style>\n",
       "<small>shape: (11_616, 3)</small><table border=\"1\" class=\"dataframe\"><thead><tr><th>ID</th><th>Question</th><th>Response</th></tr><tr><td>i64</td><td>str</td><td>str</td></tr></thead><tbody><tr><td>1</td><td>&quot;F1&quot;</td><td>&quot;Somewhat Agree&quot;</td></tr><tr><td>1</td><td>&quot;F5&quot;</td><td>&quot;Somewhat Disagree&quot;</td></tr><tr><td>1</td><td>&quot;F2&quot;</td><td>&quot;Somewhat Agree&quot;</td></tr><tr><td>1</td><td>&quot;F1.1&quot;</td><td>&quot;Somewhat Agree&quot;</td></tr><tr><td>1</td><td>&quot;F2.1&quot;</td><td>&quot;Somewhat Agree&quot;</td></tr><tr><td>&hellip;</td><td>&hellip;</td><td>&hellip;</td></tr><tr><td>264</td><td>&quot;F6.4&quot;</td><td>&quot;Neither Agree nor Disagree&quot;</td></tr><tr><td>264</td><td>&quot;F4.4&quot;</td><td>&quot;Somewhat Agree&quot;</td></tr><tr><td>264</td><td>&quot;F5.7&quot;</td><td>&quot;Strongly Agree&quot;</td></tr><tr><td>264</td><td>&quot;F3.5&quot;</td><td>&quot;Strongly Disagree&quot;</td></tr><tr><td>264</td><td>&quot;F2.11&quot;</td><td>&quot;Somewhat Agree&quot;</td></tr></tbody></table></div>"
      ],
      "text/plain": [
       "shape: (11_616, 3)\n",
       "┌─────┬──────────┬────────────────────────────┐\n",
       "│ ID  ┆ Question ┆ Response                   │\n",
       "│ --- ┆ ---      ┆ ---                        │\n",
       "│ i64 ┆ str      ┆ str                        │\n",
       "╞═════╪══════════╪════════════════════════════╡\n",
       "│ 1   ┆ F1       ┆ Somewhat Agree             │\n",
       "│ 1   ┆ F5       ┆ Somewhat Disagree          │\n",
       "│ 1   ┆ F2       ┆ Somewhat Agree             │\n",
       "│ 1   ┆ F1.1     ┆ Somewhat Agree             │\n",
       "│ 1   ┆ F2.1     ┆ Somewhat Agree             │\n",
       "│ …   ┆ …        ┆ …                          │\n",
       "│ 264 ┆ F6.4     ┆ Neither Agree nor Disagree │\n",
       "│ 264 ┆ F4.4     ┆ Somewhat Agree             │\n",
       "│ 264 ┆ F5.7     ┆ Strongly Agree             │\n",
       "│ 264 ┆ F3.5     ┆ Strongly Disagree          │\n",
       "│ 264 ┆ F2.11    ┆ Somewhat Agree             │\n",
       "└─────┴──────────┴────────────────────────────┘"
      ]
     },
     "execution_count": 105,
     "metadata": {},
     "output_type": "execute_result"
    }
   ],
   "source": [
    "#health_col = healthD.select(pl.col('^F')).columns\n",
    "\n",
    "health_cols = ['F1', 'F5', 'F2', 'F1.1', 'F2.1', 'F6', 'F4', 'F3', 'F5.1', 'F1.2', 'F2.2', 'F6.1', 'F2.3', 'F4.1', 'F2.4', 'F5.2', 'F2.5', 'F6.2', 'F1.3', 'F2.6', 'F5.3', 'F4.2', 'F2.7', 'F3.1', 'F2.8', 'F5.4', 'F3.2', 'F1.4', 'F3.3', 'F1.5', 'F5.5', 'F6.3', 'F1.6', 'F5.6', 'F2.9', 'F3.4', 'F4.3', 'F2.10', 'F1.7', 'F6.4', 'F4.4', 'F5.7', 'F3.5', 'F2.11']\n",
    "\n",
    "health_stacked = (healthD\n",
    "                 .unpivot(health_cols, \n",
    "                          index='ID', \n",
    "                          variable_name='Question', \n",
    "                          value_name='Response')\n",
    "                 .sort(pl.col('ID'))\n",
    "                )\n",
    "health_stacked"
   ]
  },
  {
   "cell_type": "code",
   "execution_count": 106,
   "id": "4cffe392-612c-44c0-8228-7873a5ae997f",
   "metadata": {},
   "outputs": [
    {
     "data": {
      "text/html": [
       "<div><style>\n",
       ".dataframe > thead > tr,\n",
       ".dataframe > tbody > tr {\n",
       "  text-align: right;\n",
       "  white-space: pre-wrap;\n",
       "}\n",
       "</style>\n",
       "<small>shape: (11_616, 4)</small><table border=\"1\" class=\"dataframe\"><thead><tr><th>ID</th><th>Question</th><th>Response</th><th>Needs Reverse</th></tr><tr><td>i64</td><td>str</td><td>str</td><td>str</td></tr></thead><tbody><tr><td>1</td><td>&quot;F1&quot;</td><td>&quot;Somewhat Agree&quot;</td><td>&quot;No&quot;</td></tr><tr><td>1</td><td>&quot;F5&quot;</td><td>&quot;Somewhat Disagree&quot;</td><td>&quot;Yes&quot;</td></tr><tr><td>1</td><td>&quot;F2&quot;</td><td>&quot;Somewhat Agree&quot;</td><td>&quot;No&quot;</td></tr><tr><td>1</td><td>&quot;F1.1&quot;</td><td>&quot;Somewhat Agree&quot;</td><td>&quot;No&quot;</td></tr><tr><td>1</td><td>&quot;F2.1&quot;</td><td>&quot;Somewhat Agree&quot;</td><td>&quot;No&quot;</td></tr><tr><td>&hellip;</td><td>&hellip;</td><td>&hellip;</td><td>&hellip;</td></tr><tr><td>264</td><td>&quot;F6.4&quot;</td><td>&quot;Neither Agree nor Disagree&quot;</td><td>&quot;Yes&quot;</td></tr><tr><td>264</td><td>&quot;F4.4&quot;</td><td>&quot;Somewhat Agree&quot;</td><td>&quot;No&quot;</td></tr><tr><td>264</td><td>&quot;F5.7&quot;</td><td>&quot;Strongly Agree&quot;</td><td>&quot;No&quot;</td></tr><tr><td>264</td><td>&quot;F3.5&quot;</td><td>&quot;Strongly Disagree&quot;</td><td>&quot;No&quot;</td></tr><tr><td>264</td><td>&quot;F2.11&quot;</td><td>&quot;Somewhat Agree&quot;</td><td>&quot;No&quot;</td></tr></tbody></table></div>"
      ],
      "text/plain": [
       "shape: (11_616, 4)\n",
       "┌─────┬──────────┬────────────────────────────┬───────────────┐\n",
       "│ ID  ┆ Question ┆ Response                   ┆ Needs Reverse │\n",
       "│ --- ┆ ---      ┆ ---                        ┆ ---           │\n",
       "│ i64 ┆ str      ┆ str                        ┆ str           │\n",
       "╞═════╪══════════╪════════════════════════════╪═══════════════╡\n",
       "│ 1   ┆ F1       ┆ Somewhat Agree             ┆ No            │\n",
       "│ 1   ┆ F5       ┆ Somewhat Disagree          ┆ Yes           │\n",
       "│ 1   ┆ F2       ┆ Somewhat Agree             ┆ No            │\n",
       "│ 1   ┆ F1.1     ┆ Somewhat Agree             ┆ No            │\n",
       "│ 1   ┆ F2.1     ┆ Somewhat Agree             ┆ No            │\n",
       "│ …   ┆ …        ┆ …                          ┆ …             │\n",
       "│ 264 ┆ F6.4     ┆ Neither Agree nor Disagree ┆ Yes           │\n",
       "│ 264 ┆ F4.4     ┆ Somewhat Agree             ┆ No            │\n",
       "│ 264 ┆ F5.7     ┆ Strongly Agree             ┆ No            │\n",
       "│ 264 ┆ F3.5     ┆ Strongly Disagree          ┆ No            │\n",
       "│ 264 ┆ F2.11    ┆ Somewhat Agree             ┆ No            │\n",
       "└─────┴──────────┴────────────────────────────┴───────────────┘"
      ]
     },
     "execution_count": 106,
     "metadata": {},
     "output_type": "execute_result"
    }
   ],
   "source": [
    "health_AddReverse = health_stacked.with_columns(\n",
    "        pl\n",
    "        .when((pl.col('Question') == 'F5') | (pl.col('Question') == 'F6') | (pl.col('Question') == 'F4.1') | (pl.col('Question') == 'F5.2') | (pl.col('Question') == 'F5.5') | (pl.col('Question') == 'F6.3') | (pl.col('Question') == 'F5.6') | (pl.col('Question') == 'F4.3') | (pl.col('Question') == 'F6.4'))\n",
    "            .then(pl.lit('Yes'))\n",
    "        .otherwise(pl.lit('No'))\n",
    "        .alias('Needs Reverse')\n",
    "    )\n",
    "\n",
    "health_AddReverse"
   ]
  },
  {
   "cell_type": "code",
   "execution_count": 113,
   "id": "0746ff55-8e00-40d9-97db-d09f3492246a",
   "metadata": {},
   "outputs": [
    {
     "data": {
      "text/html": [
       "<div><style>\n",
       ".dataframe > thead > tr,\n",
       ".dataframe > tbody > tr {\n",
       "  text-align: right;\n",
       "  white-space: pre-wrap;\n",
       "}\n",
       "</style>\n",
       "<small>shape: (11_616, 5)</small><table border=\"1\" class=\"dataframe\"><thead><tr><th>ID</th><th>Question</th><th>Response</th><th>Needs Reverse</th><th>TempRecode Value</th></tr><tr><td>i64</td><td>str</td><td>str</td><td>str</td><td>i32</td></tr></thead><tbody><tr><td>1</td><td>&quot;F1&quot;</td><td>&quot;Somewhat Agree&quot;</td><td>&quot;No&quot;</td><td>4</td></tr><tr><td>1</td><td>&quot;F5&quot;</td><td>&quot;Somewhat Disagree&quot;</td><td>&quot;Yes&quot;</td><td>2</td></tr><tr><td>1</td><td>&quot;F2&quot;</td><td>&quot;Somewhat Agree&quot;</td><td>&quot;No&quot;</td><td>4</td></tr><tr><td>1</td><td>&quot;F1.1&quot;</td><td>&quot;Somewhat Agree&quot;</td><td>&quot;No&quot;</td><td>4</td></tr><tr><td>1</td><td>&quot;F2.1&quot;</td><td>&quot;Somewhat Agree&quot;</td><td>&quot;No&quot;</td><td>4</td></tr><tr><td>&hellip;</td><td>&hellip;</td><td>&hellip;</td><td>&hellip;</td><td>&hellip;</td></tr><tr><td>264</td><td>&quot;F6.4&quot;</td><td>&quot;Neither Agree nor Disagree&quot;</td><td>&quot;Yes&quot;</td><td>3</td></tr><tr><td>264</td><td>&quot;F4.4&quot;</td><td>&quot;Somewhat Agree&quot;</td><td>&quot;No&quot;</td><td>4</td></tr><tr><td>264</td><td>&quot;F5.7&quot;</td><td>&quot;Strongly Agree&quot;</td><td>&quot;No&quot;</td><td>5</td></tr><tr><td>264</td><td>&quot;F3.5&quot;</td><td>&quot;Strongly Disagree&quot;</td><td>&quot;No&quot;</td><td>1</td></tr><tr><td>264</td><td>&quot;F2.11&quot;</td><td>&quot;Somewhat Agree&quot;</td><td>&quot;No&quot;</td><td>4</td></tr></tbody></table></div>"
      ],
      "text/plain": [
       "shape: (11_616, 5)\n",
       "┌─────┬──────────┬────────────────────────────┬───────────────┬──────────────────┐\n",
       "│ ID  ┆ Question ┆ Response                   ┆ Needs Reverse ┆ TempRecode Value │\n",
       "│ --- ┆ ---      ┆ ---                        ┆ ---           ┆ ---              │\n",
       "│ i64 ┆ str      ┆ str                        ┆ str           ┆ i32              │\n",
       "╞═════╪══════════╪════════════════════════════╪═══════════════╪══════════════════╡\n",
       "│ 1   ┆ F1       ┆ Somewhat Agree             ┆ No            ┆ 4                │\n",
       "│ 1   ┆ F5       ┆ Somewhat Disagree          ┆ Yes           ┆ 2                │\n",
       "│ 1   ┆ F2       ┆ Somewhat Agree             ┆ No            ┆ 4                │\n",
       "│ 1   ┆ F1.1     ┆ Somewhat Agree             ┆ No            ┆ 4                │\n",
       "│ 1   ┆ F2.1     ┆ Somewhat Agree             ┆ No            ┆ 4                │\n",
       "│ …   ┆ …        ┆ …                          ┆ …             ┆ …                │\n",
       "│ 264 ┆ F6.4     ┆ Neither Agree nor Disagree ┆ Yes           ┆ 3                │\n",
       "│ 264 ┆ F4.4     ┆ Somewhat Agree             ┆ No            ┆ 4                │\n",
       "│ 264 ┆ F5.7     ┆ Strongly Agree             ┆ No            ┆ 5                │\n",
       "│ 264 ┆ F3.5     ┆ Strongly Disagree          ┆ No            ┆ 1                │\n",
       "│ 264 ┆ F2.11    ┆ Somewhat Agree             ┆ No            ┆ 4                │\n",
       "└─────┴──────────┴────────────────────────────┴───────────────┴──────────────────┘"
      ]
     },
     "execution_count": 113,
     "metadata": {},
     "output_type": "execute_result"
    }
   ],
   "source": [
    "health_AddValue = health_AddReverse.with_columns(\n",
    "    pl\n",
    "        .when(pl.col('Response') == 'Strongly Disagree')\n",
    "            .then(pl.lit(1))\n",
    "    .when(pl.col('Response') == 'Somewhat Disagree')\n",
    "            .then(pl.lit(2))\n",
    "    .when(pl.col('Response') == 'Neither Agree nor Disagree')\n",
    "            .then(pl.lit(3))\n",
    "    .when(pl.col('Response') == 'Somewhat Agree')\n",
    "            .then(pl.lit(4))\n",
    "        .otherwise(pl.lit(5))\n",
    "        .alias('TempRecode Value')\n",
    "    )\n",
    "\n",
    "health_AddValue"
   ]
  },
  {
   "cell_type": "code",
   "execution_count": 114,
   "id": "4abd4407-03fe-4277-817b-2fd97d0a978f",
   "metadata": {},
   "outputs": [
    {
     "data": {
      "text/html": [
       "<div><style>\n",
       ".dataframe > thead > tr,\n",
       ".dataframe > tbody > tr {\n",
       "  text-align: right;\n",
       "  white-space: pre-wrap;\n",
       "}\n",
       "</style>\n",
       "<small>shape: (11_616, 6)</small><table border=\"1\" class=\"dataframe\"><thead><tr><th>ID</th><th>Question</th><th>Response</th><th>Needs Reverse</th><th>TempRecode Value</th><th>TempReverse Value</th></tr><tr><td>i64</td><td>str</td><td>str</td><td>str</td><td>i32</td><td>i32</td></tr></thead><tbody><tr><td>1</td><td>&quot;F1&quot;</td><td>&quot;Somewhat Agree&quot;</td><td>&quot;No&quot;</td><td>4</td><td>2</td></tr><tr><td>1</td><td>&quot;F5&quot;</td><td>&quot;Somewhat Disagree&quot;</td><td>&quot;Yes&quot;</td><td>2</td><td>4</td></tr><tr><td>1</td><td>&quot;F2&quot;</td><td>&quot;Somewhat Agree&quot;</td><td>&quot;No&quot;</td><td>4</td><td>2</td></tr><tr><td>1</td><td>&quot;F1.1&quot;</td><td>&quot;Somewhat Agree&quot;</td><td>&quot;No&quot;</td><td>4</td><td>2</td></tr><tr><td>1</td><td>&quot;F2.1&quot;</td><td>&quot;Somewhat Agree&quot;</td><td>&quot;No&quot;</td><td>4</td><td>2</td></tr><tr><td>&hellip;</td><td>&hellip;</td><td>&hellip;</td><td>&hellip;</td><td>&hellip;</td><td>&hellip;</td></tr><tr><td>264</td><td>&quot;F6.4&quot;</td><td>&quot;Neither Agree nor Disagree&quot;</td><td>&quot;Yes&quot;</td><td>3</td><td>3</td></tr><tr><td>264</td><td>&quot;F4.4&quot;</td><td>&quot;Somewhat Agree&quot;</td><td>&quot;No&quot;</td><td>4</td><td>2</td></tr><tr><td>264</td><td>&quot;F5.7&quot;</td><td>&quot;Strongly Agree&quot;</td><td>&quot;No&quot;</td><td>5</td><td>1</td></tr><tr><td>264</td><td>&quot;F3.5&quot;</td><td>&quot;Strongly Disagree&quot;</td><td>&quot;No&quot;</td><td>1</td><td>5</td></tr><tr><td>264</td><td>&quot;F2.11&quot;</td><td>&quot;Somewhat Agree&quot;</td><td>&quot;No&quot;</td><td>4</td><td>2</td></tr></tbody></table></div>"
      ],
      "text/plain": [
       "shape: (11_616, 6)\n",
       "┌─────┬──────────┬───────────────────┬───────────────┬──────────────────┬───────────────────┐\n",
       "│ ID  ┆ Question ┆ Response          ┆ Needs Reverse ┆ TempRecode Value ┆ TempReverse Value │\n",
       "│ --- ┆ ---      ┆ ---               ┆ ---           ┆ ---              ┆ ---               │\n",
       "│ i64 ┆ str      ┆ str               ┆ str           ┆ i32              ┆ i32               │\n",
       "╞═════╪══════════╪═══════════════════╪═══════════════╪══════════════════╪═══════════════════╡\n",
       "│ 1   ┆ F1       ┆ Somewhat Agree    ┆ No            ┆ 4                ┆ 2                 │\n",
       "│ 1   ┆ F5       ┆ Somewhat Disagree ┆ Yes           ┆ 2                ┆ 4                 │\n",
       "│ 1   ┆ F2       ┆ Somewhat Agree    ┆ No            ┆ 4                ┆ 2                 │\n",
       "│ 1   ┆ F1.1     ┆ Somewhat Agree    ┆ No            ┆ 4                ┆ 2                 │\n",
       "│ 1   ┆ F2.1     ┆ Somewhat Agree    ┆ No            ┆ 4                ┆ 2                 │\n",
       "│ …   ┆ …        ┆ …                 ┆ …             ┆ …                ┆ …                 │\n",
       "│ 264 ┆ F6.4     ┆ Neither Agree nor ┆ Yes           ┆ 3                ┆ 3                 │\n",
       "│     ┆          ┆ Disagree          ┆               ┆                  ┆                   │\n",
       "│ 264 ┆ F4.4     ┆ Somewhat Agree    ┆ No            ┆ 4                ┆ 2                 │\n",
       "│ 264 ┆ F5.7     ┆ Strongly Agree    ┆ No            ┆ 5                ┆ 1                 │\n",
       "│ 264 ┆ F3.5     ┆ Strongly Disagree ┆ No            ┆ 1                ┆ 5                 │\n",
       "│ 264 ┆ F2.11    ┆ Somewhat Agree    ┆ No            ┆ 4                ┆ 2                 │\n",
       "└─────┴──────────┴───────────────────┴───────────────┴──────────────────┴───────────────────┘"
      ]
     },
     "execution_count": 114,
     "metadata": {},
     "output_type": "execute_result"
    }
   ],
   "source": [
    "health_AddValueReverse = health_AddValue.with_columns(\n",
    "    pl\n",
    "        .when(pl.col('TempRecode Value') == 1)\n",
    "            .then(pl.lit(5))\n",
    "    .when(pl.col('TempRecode Value') == 2)\n",
    "            .then(pl.lit(4))\n",
    "    .when(pl.col('TempRecode Value') == 3)\n",
    "            .then(pl.lit(3))\n",
    "    .when(pl.col('TempRecode Value') == 4)\n",
    "            .then(pl.lit(2))\n",
    "        .otherwise(pl.lit(1))\n",
    "        .alias('TempReverse Value')\n",
    "    )\n",
    "\n",
    "health_AddValueReverse"
   ]
  },
  {
   "cell_type": "code",
   "execution_count": 115,
   "id": "113911bb-fb04-4027-82c3-82b03460f594",
   "metadata": {},
   "outputs": [
    {
     "data": {
      "text/html": [
       "<div><style>\n",
       ".dataframe > thead > tr,\n",
       ".dataframe > tbody > tr {\n",
       "  text-align: right;\n",
       "  white-space: pre-wrap;\n",
       "}\n",
       "</style>\n",
       "<small>shape: (11_616, 7)</small><table border=\"1\" class=\"dataframe\"><thead><tr><th>ID</th><th>Question</th><th>Response</th><th>Needs Reverse</th><th>TempRecode Value</th><th>TempReverse Value</th><th>Recode Value</th></tr><tr><td>i64</td><td>str</td><td>str</td><td>str</td><td>i32</td><td>i32</td><td>i32</td></tr></thead><tbody><tr><td>1</td><td>&quot;F1&quot;</td><td>&quot;Somewhat Agree&quot;</td><td>&quot;No&quot;</td><td>4</td><td>2</td><td>4</td></tr><tr><td>1</td><td>&quot;F5&quot;</td><td>&quot;Somewhat Disagree&quot;</td><td>&quot;Yes&quot;</td><td>2</td><td>4</td><td>4</td></tr><tr><td>1</td><td>&quot;F2&quot;</td><td>&quot;Somewhat Agree&quot;</td><td>&quot;No&quot;</td><td>4</td><td>2</td><td>4</td></tr><tr><td>1</td><td>&quot;F1.1&quot;</td><td>&quot;Somewhat Agree&quot;</td><td>&quot;No&quot;</td><td>4</td><td>2</td><td>4</td></tr><tr><td>1</td><td>&quot;F2.1&quot;</td><td>&quot;Somewhat Agree&quot;</td><td>&quot;No&quot;</td><td>4</td><td>2</td><td>4</td></tr><tr><td>&hellip;</td><td>&hellip;</td><td>&hellip;</td><td>&hellip;</td><td>&hellip;</td><td>&hellip;</td><td>&hellip;</td></tr><tr><td>264</td><td>&quot;F6.4&quot;</td><td>&quot;Neither Agree nor Disagree&quot;</td><td>&quot;Yes&quot;</td><td>3</td><td>3</td><td>3</td></tr><tr><td>264</td><td>&quot;F4.4&quot;</td><td>&quot;Somewhat Agree&quot;</td><td>&quot;No&quot;</td><td>4</td><td>2</td><td>4</td></tr><tr><td>264</td><td>&quot;F5.7&quot;</td><td>&quot;Strongly Agree&quot;</td><td>&quot;No&quot;</td><td>5</td><td>1</td><td>5</td></tr><tr><td>264</td><td>&quot;F3.5&quot;</td><td>&quot;Strongly Disagree&quot;</td><td>&quot;No&quot;</td><td>1</td><td>5</td><td>1</td></tr><tr><td>264</td><td>&quot;F2.11&quot;</td><td>&quot;Somewhat Agree&quot;</td><td>&quot;No&quot;</td><td>4</td><td>2</td><td>4</td></tr></tbody></table></div>"
      ],
      "text/plain": [
       "shape: (11_616, 7)\n",
       "┌─────┬──────────┬───────────────────┬───────────────┬────────────┬─────────────┬──────────────┐\n",
       "│ ID  ┆ Question ┆ Response          ┆ Needs Reverse ┆ TempRecode ┆ TempReverse ┆ Recode Value │\n",
       "│ --- ┆ ---      ┆ ---               ┆ ---           ┆ Value      ┆ Value       ┆ ---          │\n",
       "│ i64 ┆ str      ┆ str               ┆ str           ┆ ---        ┆ ---         ┆ i32          │\n",
       "│     ┆          ┆                   ┆               ┆ i32        ┆ i32         ┆              │\n",
       "╞═════╪══════════╪═══════════════════╪═══════════════╪════════════╪═════════════╪══════════════╡\n",
       "│ 1   ┆ F1       ┆ Somewhat Agree    ┆ No            ┆ 4          ┆ 2           ┆ 4            │\n",
       "│ 1   ┆ F5       ┆ Somewhat Disagree ┆ Yes           ┆ 2          ┆ 4           ┆ 4            │\n",
       "│ 1   ┆ F2       ┆ Somewhat Agree    ┆ No            ┆ 4          ┆ 2           ┆ 4            │\n",
       "│ 1   ┆ F1.1     ┆ Somewhat Agree    ┆ No            ┆ 4          ┆ 2           ┆ 4            │\n",
       "│ 1   ┆ F2.1     ┆ Somewhat Agree    ┆ No            ┆ 4          ┆ 2           ┆ 4            │\n",
       "│ …   ┆ …        ┆ …                 ┆ …             ┆ …          ┆ …           ┆ …            │\n",
       "│ 264 ┆ F6.4     ┆ Neither Agree nor ┆ Yes           ┆ 3          ┆ 3           ┆ 3            │\n",
       "│     ┆          ┆ Disagree          ┆               ┆            ┆             ┆              │\n",
       "│ 264 ┆ F4.4     ┆ Somewhat Agree    ┆ No            ┆ 4          ┆ 2           ┆ 4            │\n",
       "│ 264 ┆ F5.7     ┆ Strongly Agree    ┆ No            ┆ 5          ┆ 1           ┆ 5            │\n",
       "│ 264 ┆ F3.5     ┆ Strongly Disagree ┆ No            ┆ 1          ┆ 5           ┆ 1            │\n",
       "│ 264 ┆ F2.11    ┆ Somewhat Agree    ┆ No            ┆ 4          ┆ 2           ┆ 4            │\n",
       "└─────┴──────────┴───────────────────┴───────────────┴────────────┴─────────────┴──────────────┘"
      ]
     },
     "execution_count": 115,
     "metadata": {},
     "output_type": "execute_result"
    }
   ],
   "source": [
    "health_AddRecode = health_AddValueReverse.with_columns(\n",
    "    pl\n",
    "        .when(pl.col('Needs Reverse') == 'Yes')\n",
    "            .then(pl.col('TempReverse Value'))\n",
    "        .otherwise(pl.col('TempRecode Value'))\n",
    "        .alias('Recode Value')\n",
    "    )\n",
    "\n",
    "health_AddRecode"
   ]
  },
  {
   "cell_type": "code",
   "execution_count": 116,
   "id": "a653d997-f2af-4147-a0d2-35f5fa1d218d",
   "metadata": {},
   "outputs": [
    {
     "data": {
      "text/html": [
       "<div><style>\n",
       ".dataframe > thead > tr,\n",
       ".dataframe > tbody > tr {\n",
       "  text-align: right;\n",
       "  white-space: pre-wrap;\n",
       "}\n",
       "</style>\n",
       "<small>shape: (11_616, 8)</small><table border=\"1\" class=\"dataframe\"><thead><tr><th>ID</th><th>Question</th><th>Response</th><th>Needs Reverse</th><th>TempRecode Value</th><th>TempReverse Value</th><th>Recode Value</th><th>Question Type</th></tr><tr><td>i64</td><td>str</td><td>str</td><td>str</td><td>i32</td><td>i32</td><td>i32</td><td>str</td></tr></thead><tbody><tr><td>1</td><td>&quot;F1&quot;</td><td>&quot;Somewhat Agree&quot;</td><td>&quot;No&quot;</td><td>4</td><td>2</td><td>4</td><td>&quot;F1&quot;</td></tr><tr><td>1</td><td>&quot;F5&quot;</td><td>&quot;Somewhat Disagree&quot;</td><td>&quot;Yes&quot;</td><td>2</td><td>4</td><td>4</td><td>&quot;F5&quot;</td></tr><tr><td>1</td><td>&quot;F2&quot;</td><td>&quot;Somewhat Agree&quot;</td><td>&quot;No&quot;</td><td>4</td><td>2</td><td>4</td><td>&quot;F2&quot;</td></tr><tr><td>1</td><td>&quot;F1.1&quot;</td><td>&quot;Somewhat Agree&quot;</td><td>&quot;No&quot;</td><td>4</td><td>2</td><td>4</td><td>&quot;F1&quot;</td></tr><tr><td>1</td><td>&quot;F2.1&quot;</td><td>&quot;Somewhat Agree&quot;</td><td>&quot;No&quot;</td><td>4</td><td>2</td><td>4</td><td>&quot;F2&quot;</td></tr><tr><td>&hellip;</td><td>&hellip;</td><td>&hellip;</td><td>&hellip;</td><td>&hellip;</td><td>&hellip;</td><td>&hellip;</td><td>&hellip;</td></tr><tr><td>264</td><td>&quot;F6.4&quot;</td><td>&quot;Neither Agree nor Disagree&quot;</td><td>&quot;Yes&quot;</td><td>3</td><td>3</td><td>3</td><td>&quot;F6&quot;</td></tr><tr><td>264</td><td>&quot;F4.4&quot;</td><td>&quot;Somewhat Agree&quot;</td><td>&quot;No&quot;</td><td>4</td><td>2</td><td>4</td><td>&quot;F4&quot;</td></tr><tr><td>264</td><td>&quot;F5.7&quot;</td><td>&quot;Strongly Agree&quot;</td><td>&quot;No&quot;</td><td>5</td><td>1</td><td>5</td><td>&quot;F5&quot;</td></tr><tr><td>264</td><td>&quot;F3.5&quot;</td><td>&quot;Strongly Disagree&quot;</td><td>&quot;No&quot;</td><td>1</td><td>5</td><td>1</td><td>&quot;F3&quot;</td></tr><tr><td>264</td><td>&quot;F2.11&quot;</td><td>&quot;Somewhat Agree&quot;</td><td>&quot;No&quot;</td><td>4</td><td>2</td><td>4</td><td>&quot;F2&quot;</td></tr></tbody></table></div>"
      ],
      "text/plain": [
       "shape: (11_616, 8)\n",
       "┌─────┬──────────┬───────────────────┬─────────┬────────────┬─────────────┬────────┬──────────┐\n",
       "│ ID  ┆ Question ┆ Response          ┆ Needs   ┆ TempRecode ┆ TempReverse ┆ Recode ┆ Question │\n",
       "│ --- ┆ ---      ┆ ---               ┆ Reverse ┆ Value      ┆ Value       ┆ Value  ┆ Type     │\n",
       "│ i64 ┆ str      ┆ str               ┆ ---     ┆ ---        ┆ ---         ┆ ---    ┆ ---      │\n",
       "│     ┆          ┆                   ┆ str     ┆ i32        ┆ i32         ┆ i32    ┆ str      │\n",
       "╞═════╪══════════╪═══════════════════╪═════════╪════════════╪═════════════╪════════╪══════════╡\n",
       "│ 1   ┆ F1       ┆ Somewhat Agree    ┆ No      ┆ 4          ┆ 2           ┆ 4      ┆ F1       │\n",
       "│ 1   ┆ F5       ┆ Somewhat Disagree ┆ Yes     ┆ 2          ┆ 4           ┆ 4      ┆ F5       │\n",
       "│ 1   ┆ F2       ┆ Somewhat Agree    ┆ No      ┆ 4          ┆ 2           ┆ 4      ┆ F2       │\n",
       "│ 1   ┆ F1.1     ┆ Somewhat Agree    ┆ No      ┆ 4          ┆ 2           ┆ 4      ┆ F1       │\n",
       "│ 1   ┆ F2.1     ┆ Somewhat Agree    ┆ No      ┆ 4          ┆ 2           ┆ 4      ┆ F2       │\n",
       "│ …   ┆ …        ┆ …                 ┆ …       ┆ …          ┆ …           ┆ …      ┆ …        │\n",
       "│ 264 ┆ F6.4     ┆ Neither Agree nor ┆ Yes     ┆ 3          ┆ 3           ┆ 3      ┆ F6       │\n",
       "│     ┆          ┆ Disagree          ┆         ┆            ┆             ┆        ┆          │\n",
       "│ 264 ┆ F4.4     ┆ Somewhat Agree    ┆ No      ┆ 4          ┆ 2           ┆ 4      ┆ F4       │\n",
       "│ 264 ┆ F5.7     ┆ Strongly Agree    ┆ No      ┆ 5          ┆ 1           ┆ 5      ┆ F5       │\n",
       "│ 264 ┆ F3.5     ┆ Strongly Disagree ┆ No      ┆ 1          ┆ 5           ┆ 1      ┆ F3       │\n",
       "│ 264 ┆ F2.11    ┆ Somewhat Agree    ┆ No      ┆ 4          ┆ 2           ┆ 4      ┆ F2       │\n",
       "└─────┴──────────┴───────────────────┴─────────┴────────────┴─────────────┴────────┴──────────┘"
      ]
     },
     "execution_count": 116,
     "metadata": {},
     "output_type": "execute_result"
    }
   ],
   "source": [
    "health_AddQuestion = health_AddRecode.with_columns(\n",
    "    pl.col('Question').str.split('.').list.get(0)\n",
    "        .alias('Question Type')\n",
    "    )\n",
    "\n",
    "health_AddQuestion"
   ]
  },
  {
   "cell_type": "code",
   "execution_count": 117,
   "id": "7aa3606b-5648-4ef5-99c3-74b988d0ef60",
   "metadata": {},
   "outputs": [
    {
     "data": {
      "text/html": [
       "<div><style>\n",
       ".dataframe > thead > tr,\n",
       ".dataframe > tbody > tr {\n",
       "  text-align: right;\n",
       "  white-space: pre-wrap;\n",
       "}\n",
       "</style>\n",
       "<small>shape: (1_584, 3)</small><table border=\"1\" class=\"dataframe\"><thead><tr><th>ID</th><th>Question Type</th><th>Recoded Total</th></tr><tr><td>i64</td><td>str</td><td>i32</td></tr></thead><tbody><tr><td>1</td><td>&quot;F1&quot;</td><td>31</td></tr><tr><td>1</td><td>&quot;F2&quot;</td><td>48</td></tr><tr><td>1</td><td>&quot;F3&quot;</td><td>20</td></tr><tr><td>1</td><td>&quot;F4&quot;</td><td>17</td></tr><tr><td>1</td><td>&quot;F5&quot;</td><td>28</td></tr><tr><td>&hellip;</td><td>&hellip;</td><td>&hellip;</td></tr><tr><td>264</td><td>&quot;F2&quot;</td><td>53</td></tr><tr><td>264</td><td>&quot;F3&quot;</td><td>16</td></tr><tr><td>264</td><td>&quot;F4&quot;</td><td>21</td></tr><tr><td>264</td><td>&quot;F5&quot;</td><td>33</td></tr><tr><td>264</td><td>&quot;F6&quot;</td><td>17</td></tr></tbody></table></div>"
      ],
      "text/plain": [
       "shape: (1_584, 3)\n",
       "┌─────┬───────────────┬───────────────┐\n",
       "│ ID  ┆ Question Type ┆ Recoded Total │\n",
       "│ --- ┆ ---           ┆ ---           │\n",
       "│ i64 ┆ str           ┆ i32           │\n",
       "╞═════╪═══════════════╪═══════════════╡\n",
       "│ 1   ┆ F1            ┆ 31            │\n",
       "│ 1   ┆ F2            ┆ 48            │\n",
       "│ 1   ┆ F3            ┆ 20            │\n",
       "│ 1   ┆ F4            ┆ 17            │\n",
       "│ 1   ┆ F5            ┆ 28            │\n",
       "│ …   ┆ …             ┆ …             │\n",
       "│ 264 ┆ F2            ┆ 53            │\n",
       "│ 264 ┆ F3            ┆ 16            │\n",
       "│ 264 ┆ F4            ┆ 21            │\n",
       "│ 264 ┆ F5            ┆ 33            │\n",
       "│ 264 ┆ F6            ┆ 17            │\n",
       "└─────┴───────────────┴───────────────┘"
      ]
     },
     "execution_count": 117,
     "metadata": {},
     "output_type": "execute_result"
    }
   ],
   "source": [
    "health_Agg = (health_AddQuestion\n",
    "             .group_by(pl.col('ID'), pl.col('Question Type'))\n",
    "             .agg(pl.col('Recode Value').sum().alias('Recoded Total'))\n",
    "             .sort(pl.col('ID'), pl.col('Question Type'))\n",
    ")\n",
    "\n",
    "health_Agg"
   ]
  },
  {
   "cell_type": "code",
   "execution_count": 120,
   "id": "262f57b5-5dc3-49d1-87a2-8f997df6fb42",
   "metadata": {},
   "outputs": [
    {
     "data": {
      "text/html": [
       "<div><style>\n",
       ".dataframe > thead > tr,\n",
       ".dataframe > tbody > tr {\n",
       "  text-align: right;\n",
       "  white-space: pre-wrap;\n",
       "}\n",
       "</style>\n",
       "<small>shape: (264, 7)</small><table border=\"1\" class=\"dataframe\"><thead><tr><th>ID</th><th>F1</th><th>F2</th><th>F3</th><th>F4</th><th>F5</th><th>F6</th></tr><tr><td>i64</td><td>i32</td><td>i32</td><td>i32</td><td>i32</td><td>i32</td><td>i32</td></tr></thead><tbody><tr><td>1</td><td>31</td><td>48</td><td>20</td><td>17</td><td>28</td><td>18</td></tr><tr><td>2</td><td>31</td><td>47</td><td>19</td><td>17</td><td>27</td><td>20</td></tr><tr><td>3</td><td>36</td><td>51</td><td>19</td><td>18</td><td>32</td><td>17</td></tr><tr><td>4</td><td>32</td><td>54</td><td>12</td><td>15</td><td>30</td><td>16</td></tr><tr><td>5</td><td>37</td><td>47</td><td>22</td><td>19</td><td>36</td><td>19</td></tr><tr><td>&hellip;</td><td>&hellip;</td><td>&hellip;</td><td>&hellip;</td><td>&hellip;</td><td>&hellip;</td><td>&hellip;</td></tr><tr><td>260</td><td>32</td><td>50</td><td>22</td><td>18</td><td>34</td><td>22</td></tr><tr><td>261</td><td>31</td><td>48</td><td>24</td><td>19</td><td>28</td><td>16</td></tr><tr><td>262</td><td>30</td><td>47</td><td>20</td><td>23</td><td>33</td><td>19</td></tr><tr><td>263</td><td>38</td><td>50</td><td>20</td><td>19</td><td>31</td><td>21</td></tr><tr><td>264</td><td>33</td><td>53</td><td>16</td><td>21</td><td>33</td><td>17</td></tr></tbody></table></div>"
      ],
      "text/plain": [
       "shape: (264, 7)\n",
       "┌─────┬─────┬─────┬─────┬─────┬─────┬─────┐\n",
       "│ ID  ┆ F1  ┆ F2  ┆ F3  ┆ F4  ┆ F5  ┆ F6  │\n",
       "│ --- ┆ --- ┆ --- ┆ --- ┆ --- ┆ --- ┆ --- │\n",
       "│ i64 ┆ i32 ┆ i32 ┆ i32 ┆ i32 ┆ i32 ┆ i32 │\n",
       "╞═════╪═════╪═════╪═════╪═════╪═════╪═════╡\n",
       "│ 1   ┆ 31  ┆ 48  ┆ 20  ┆ 17  ┆ 28  ┆ 18  │\n",
       "│ 2   ┆ 31  ┆ 47  ┆ 19  ┆ 17  ┆ 27  ┆ 20  │\n",
       "│ 3   ┆ 36  ┆ 51  ┆ 19  ┆ 18  ┆ 32  ┆ 17  │\n",
       "│ 4   ┆ 32  ┆ 54  ┆ 12  ┆ 15  ┆ 30  ┆ 16  │\n",
       "│ 5   ┆ 37  ┆ 47  ┆ 22  ┆ 19  ┆ 36  ┆ 19  │\n",
       "│ …   ┆ …   ┆ …   ┆ …   ┆ …   ┆ …   ┆ …   │\n",
       "│ 260 ┆ 32  ┆ 50  ┆ 22  ┆ 18  ┆ 34  ┆ 22  │\n",
       "│ 261 ┆ 31  ┆ 48  ┆ 24  ┆ 19  ┆ 28  ┆ 16  │\n",
       "│ 262 ┆ 30  ┆ 47  ┆ 20  ┆ 23  ┆ 33  ┆ 19  │\n",
       "│ 263 ┆ 38  ┆ 50  ┆ 20  ┆ 19  ┆ 31  ┆ 21  │\n",
       "│ 264 ┆ 33  ┆ 53  ┆ 16  ┆ 21  ┆ 33  ┆ 17  │\n",
       "└─────┴─────┴─────┴─────┴─────┴─────┴─────┘"
      ]
     },
     "execution_count": 120,
     "metadata": {},
     "output_type": "execute_result"
    }
   ],
   "source": [
    "health_pivot = health_Agg.pivot('Question Type', index='ID', values='Recoded Total')\n",
    "\n",
    "health_pivot"
   ]
  },
  {
   "cell_type": "code",
   "execution_count": null,
   "id": "5966fbd8-826d-4df9-b3b6-73c55d0f7c68",
   "metadata": {},
   "outputs": [],
   "source": [
    "df.write_csv('./Data/health_survey_summary.csv', separator=\",\")"
   ]
  }
 ],
 "metadata": {
  "kernelspec": {
   "display_name": "Python 3 (ipykernel)",
   "language": "python",
   "name": "python3"
  },
  "language_info": {
   "codemirror_mode": {
    "name": "ipython",
    "version": 3
   },
   "file_extension": ".py",
   "mimetype": "text/x-python",
   "name": "python",
   "nbconvert_exporter": "python",
   "pygments_lexer": "ipython3",
   "version": "3.12.5"
  }
 },
 "nbformat": 4,
 "nbformat_minor": 5
}
