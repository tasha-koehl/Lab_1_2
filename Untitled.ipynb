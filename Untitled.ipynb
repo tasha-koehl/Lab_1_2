{
 "cells": [
  {
   "cell_type": "code",
   "execution_count": 9,
   "id": "1e40222b-4674-4c40-8cf6-482ddc403516",
   "metadata": {},
   "outputs": [
    {
     "name": "stdout",
     "output_type": "stream",
     "text": [
      "Requirement already satisfied: polars[all] in c:\\users\\jb5983on\\appdata\\local\\anaconda3\\envs\\polars\\lib\\site-packages (1.6.0)\n",
      "Requirement already satisfied: numpy>=1.16.0 in c:\\users\\jb5983on\\appdata\\local\\anaconda3\\envs\\polars\\lib\\site-packages (from polars[all]) (2.1.0)\n",
      "Requirement already satisfied: pandas in c:\\users\\jb5983on\\appdata\\local\\anaconda3\\envs\\polars\\lib\\site-packages (from polars[all]) (2.2.2)\n",
      "Requirement already satisfied: pyarrow>=7.0.0 in c:\\users\\jb5983on\\appdata\\local\\anaconda3\\envs\\polars\\lib\\site-packages (from polars[all]) (17.0.0)\n",
      "Requirement already satisfied: pydantic in c:\\users\\jb5983on\\appdata\\local\\anaconda3\\envs\\polars\\lib\\site-packages (from polars[all]) (2.8.2)\n",
      "Requirement already satisfied: nest-asyncio in c:\\users\\jb5983on\\appdata\\local\\anaconda3\\envs\\polars\\lib\\site-packages (from polars[all]) (1.6.0)\n",
      "Requirement already satisfied: fsspec in c:\\users\\jb5983on\\appdata\\local\\anaconda3\\envs\\polars\\lib\\site-packages (from polars[all]) (2024.6.1)\n",
      "Requirement already satisfied: deltalake>=0.15.0 in c:\\users\\jb5983on\\appdata\\local\\anaconda3\\envs\\polars\\lib\\site-packages (from polars[all]) (0.19.1)\n",
      "Requirement already satisfied: pyiceberg>=0.5.0 in c:\\users\\jb5983on\\appdata\\local\\anaconda3\\envs\\polars\\lib\\site-packages (from polars[all]) (0.7.1)\n",
      "Requirement already satisfied: gevent in c:\\users\\jb5983on\\appdata\\local\\anaconda3\\envs\\polars\\lib\\site-packages (from polars[all]) (24.2.1)\n",
      "Requirement already satisfied: cloudpickle in c:\\users\\jb5983on\\appdata\\local\\anaconda3\\envs\\polars\\lib\\site-packages (from polars[all]) (3.0.0)\n",
      "Requirement already satisfied: matplotlib in c:\\users\\jb5983on\\appdata\\local\\anaconda3\\envs\\polars\\lib\\site-packages (from polars[all]) (3.9.2)\n",
      "Requirement already satisfied: altair>=5.4.0 in c:\\users\\jb5983on\\appdata\\local\\anaconda3\\envs\\polars\\lib\\site-packages (from polars[all]) (5.4.1)\n",
      "Requirement already satisfied: great-tables>=0.8.0 in c:\\users\\jb5983on\\appdata\\local\\anaconda3\\envs\\polars\\lib\\site-packages (from polars[all]) (0.11.0)\n",
      "Requirement already satisfied: tzdata in c:\\users\\jb5983on\\appdata\\local\\anaconda3\\envs\\polars\\lib\\site-packages (from polars[all]) (2024.1)\n",
      "Requirement already satisfied: jinja2 in c:\\users\\jb5983on\\appdata\\local\\anaconda3\\envs\\polars\\lib\\site-packages (from altair>=5.4.0->polars[all]) (3.1.4)\n",
      "Requirement already satisfied: jsonschema>=3.0 in c:\\users\\jb5983on\\appdata\\local\\anaconda3\\envs\\polars\\lib\\site-packages (from altair>=5.4.0->polars[all]) (4.23.0)\n",
      "Requirement already satisfied: narwhals>=1.5.2 in c:\\users\\jb5983on\\appdata\\local\\anaconda3\\envs\\polars\\lib\\site-packages (from altair>=5.4.0->polars[all]) (1.6.2)\n",
      "Requirement already satisfied: packaging in c:\\users\\jb5983on\\appdata\\local\\anaconda3\\envs\\polars\\lib\\site-packages (from altair>=5.4.0->polars[all]) (24.1)\n",
      "Requirement already satisfied: typing-extensions>=4.10.0 in c:\\users\\jb5983on\\appdata\\local\\anaconda3\\envs\\polars\\lib\\site-packages (from altair>=5.4.0->polars[all]) (4.12.2)\n",
      "Requirement already satisfied: commonmark>=0.9.1 in c:\\users\\jb5983on\\appdata\\local\\anaconda3\\envs\\polars\\lib\\site-packages (from great-tables>=0.8.0->polars[all]) (0.9.1)\n",
      "Requirement already satisfied: htmltools>=0.4.1 in c:\\users\\jb5983on\\appdata\\local\\anaconda3\\envs\\polars\\lib\\site-packages (from great-tables>=0.8.0->polars[all]) (0.5.3)\n",
      "Requirement already satisfied: importlib-metadata in c:\\users\\jb5983on\\appdata\\local\\anaconda3\\envs\\polars\\lib\\site-packages (from great-tables>=0.8.0->polars[all]) (8.4.0)\n",
      "Requirement already satisfied: Babel>=2.13.1 in c:\\users\\jb5983on\\appdata\\local\\anaconda3\\envs\\polars\\lib\\site-packages (from great-tables>=0.8.0->polars[all]) (2.14.0)\n",
      "Requirement already satisfied: importlib-resources in c:\\users\\jb5983on\\appdata\\local\\anaconda3\\envs\\polars\\lib\\site-packages (from great-tables>=0.8.0->polars[all]) (6.4.4)\n",
      "Requirement already satisfied: click<9.0.0,>=7.1.1 in c:\\users\\jb5983on\\appdata\\local\\anaconda3\\envs\\polars\\lib\\site-packages (from pyiceberg>=0.5.0->polars[all]) (8.1.7)\n",
      "Requirement already satisfied: mmh3<5.0.0,>=4.0.0 in c:\\users\\jb5983on\\appdata\\local\\anaconda3\\envs\\polars\\lib\\site-packages (from pyiceberg>=0.5.0->polars[all]) (4.1.0)\n",
      "Requirement already satisfied: pyparsing<4.0.0,>=3.1.0 in c:\\users\\jb5983on\\appdata\\local\\anaconda3\\envs\\polars\\lib\\site-packages (from pyiceberg>=0.5.0->polars[all]) (3.1.4)\n",
      "Requirement already satisfied: requests<3.0.0,>=2.20.0 in c:\\users\\jb5983on\\appdata\\local\\anaconda3\\envs\\polars\\lib\\site-packages (from pyiceberg>=0.5.0->polars[all]) (2.32.3)\n",
      "Requirement already satisfied: rich<14.0.0,>=10.11.0 in c:\\users\\jb5983on\\appdata\\local\\anaconda3\\envs\\polars\\lib\\site-packages (from pyiceberg>=0.5.0->polars[all]) (13.8.0)\n",
      "Requirement already satisfied: sortedcontainers==2.4.0 in c:\\users\\jb5983on\\appdata\\local\\anaconda3\\envs\\polars\\lib\\site-packages (from pyiceberg>=0.5.0->polars[all]) (2.4.0)\n",
      "Requirement already satisfied: strictyaml<2.0.0,>=1.7.0 in c:\\users\\jb5983on\\appdata\\local\\anaconda3\\envs\\polars\\lib\\site-packages (from pyiceberg>=0.5.0->polars[all]) (1.7.3)\n",
      "Requirement already satisfied: tenacity<9.0.0,>=8.2.3 in c:\\users\\jb5983on\\appdata\\local\\anaconda3\\envs\\polars\\lib\\site-packages (from pyiceberg>=0.5.0->polars[all]) (8.5.0)\n",
      "Requirement already satisfied: annotated-types>=0.4.0 in c:\\users\\jb5983on\\appdata\\local\\anaconda3\\envs\\polars\\lib\\site-packages (from pydantic->polars[all]) (0.7.0)\n",
      "Requirement already satisfied: pydantic-core==2.20.1 in c:\\users\\jb5983on\\appdata\\local\\anaconda3\\envs\\polars\\lib\\site-packages (from pydantic->polars[all]) (2.20.1)\n",
      "Requirement already satisfied: zope.event in c:\\users\\jb5983on\\appdata\\local\\anaconda3\\envs\\polars\\lib\\site-packages (from gevent->polars[all]) (5.0)\n",
      "Requirement already satisfied: zope.interface in c:\\users\\jb5983on\\appdata\\local\\anaconda3\\envs\\polars\\lib\\site-packages (from gevent->polars[all]) (7.0.3)\n",
      "Requirement already satisfied: greenlet>=3.0rc3 in c:\\users\\jb5983on\\appdata\\local\\anaconda3\\envs\\polars\\lib\\site-packages (from gevent->polars[all]) (3.0.3)\n",
      "Requirement already satisfied: cffi>=1.12.2 in c:\\users\\jb5983on\\appdata\\local\\anaconda3\\envs\\polars\\lib\\site-packages (from gevent->polars[all]) (1.17.0)\n",
      "Requirement already satisfied: contourpy>=1.0.1 in c:\\users\\jb5983on\\appdata\\local\\anaconda3\\envs\\polars\\lib\\site-packages (from matplotlib->polars[all]) (1.3.0)\n",
      "Requirement already satisfied: cycler>=0.10 in c:\\users\\jb5983on\\appdata\\local\\anaconda3\\envs\\polars\\lib\\site-packages (from matplotlib->polars[all]) (0.12.1)\n",
      "Requirement already satisfied: fonttools>=4.22.0 in c:\\users\\jb5983on\\appdata\\local\\anaconda3\\envs\\polars\\lib\\site-packages (from matplotlib->polars[all]) (4.53.1)\n",
      "Requirement already satisfied: kiwisolver>=1.3.1 in c:\\users\\jb5983on\\appdata\\local\\anaconda3\\envs\\polars\\lib\\site-packages (from matplotlib->polars[all]) (1.4.5)\n",
      "Requirement already satisfied: pillow>=8 in c:\\users\\jb5983on\\appdata\\local\\anaconda3\\envs\\polars\\lib\\site-packages (from matplotlib->polars[all]) (10.4.0)\n",
      "Requirement already satisfied: python-dateutil>=2.7 in c:\\users\\jb5983on\\appdata\\local\\anaconda3\\envs\\polars\\lib\\site-packages (from matplotlib->polars[all]) (2.9.0)\n",
      "Requirement already satisfied: pytz>=2020.1 in c:\\users\\jb5983on\\appdata\\local\\anaconda3\\envs\\polars\\lib\\site-packages (from pandas->polars[all]) (2024.1)\n",
      "Requirement already satisfied: adbc-driver-manager[dbapi] in c:\\users\\jb5983on\\appdata\\local\\anaconda3\\envs\\polars\\lib\\site-packages (from polars[all]) (1.1.0)\n",
      "Requirement already satisfied: adbc-driver-sqlite[dbapi] in c:\\users\\jb5983on\\appdata\\local\\anaconda3\\envs\\polars\\lib\\site-packages (from polars[all]) (1.1.0)\n",
      "Requirement already satisfied: connectorx>=0.3.2 in c:\\users\\jb5983on\\appdata\\local\\anaconda3\\envs\\polars\\lib\\site-packages (from polars[all]) (0.3.3)\n",
      "Requirement already satisfied: sqlalchemy in c:\\users\\jb5983on\\appdata\\local\\anaconda3\\envs\\polars\\lib\\site-packages (from polars[all]) (2.0.33)\n",
      "Requirement already satisfied: fastexcel>=0.9 in c:\\users\\jb5983on\\appdata\\local\\anaconda3\\envs\\polars\\lib\\site-packages (from polars[all]) (0.11.6)\n",
      "Requirement already satisfied: openpyxl>=3.0.0 in c:\\users\\jb5983on\\appdata\\local\\anaconda3\\envs\\polars\\lib\\site-packages (from polars[all]) (3.1.5)\n",
      "Requirement already satisfied: xlsx2csv>=0.8.0 in c:\\users\\jb5983on\\appdata\\local\\anaconda3\\envs\\polars\\lib\\site-packages (from polars[all]) (0.8.3)\n",
      "Requirement already satisfied: xlsxwriter in c:\\users\\jb5983on\\appdata\\local\\anaconda3\\envs\\polars\\lib\\site-packages (from polars[all]) (3.2.0)\n",
      "Requirement already satisfied: pycparser in c:\\users\\jb5983on\\appdata\\local\\anaconda3\\envs\\polars\\lib\\site-packages (from cffi>=1.12.2->gevent->polars[all]) (2.22)\n",
      "Requirement already satisfied: colorama in c:\\users\\jb5983on\\appdata\\local\\anaconda3\\envs\\polars\\lib\\site-packages (from click<9.0.0,>=7.1.1->pyiceberg>=0.5.0->polars[all]) (0.4.6)\n",
      "Requirement already satisfied: attrs>=22.2.0 in c:\\users\\jb5983on\\appdata\\local\\anaconda3\\envs\\polars\\lib\\site-packages (from jsonschema>=3.0->altair>=5.4.0->polars[all]) (24.2.0)\n",
      "Requirement already satisfied: jsonschema-specifications>=2023.03.6 in c:\\users\\jb5983on\\appdata\\local\\anaconda3\\envs\\polars\\lib\\site-packages (from jsonschema>=3.0->altair>=5.4.0->polars[all]) (2023.12.1)\n",
      "Requirement already satisfied: referencing>=0.28.4 in c:\\users\\jb5983on\\appdata\\local\\anaconda3\\envs\\polars\\lib\\site-packages (from jsonschema>=3.0->altair>=5.4.0->polars[all]) (0.35.1)\n",
      "Requirement already satisfied: rpds-py>=0.7.1 in c:\\users\\jb5983on\\appdata\\local\\anaconda3\\envs\\polars\\lib\\site-packages (from jsonschema>=3.0->altair>=5.4.0->polars[all]) (0.20.0)\n",
      "Requirement already satisfied: et-xmlfile in c:\\users\\jb5983on\\appdata\\local\\anaconda3\\envs\\polars\\lib\\site-packages (from openpyxl>=3.0.0->polars[all]) (1.1.0)\n",
      "Requirement already satisfied: six>=1.5 in c:\\users\\jb5983on\\appdata\\local\\anaconda3\\envs\\polars\\lib\\site-packages (from python-dateutil>=2.7->matplotlib->polars[all]) (1.16.0)\n",
      "Requirement already satisfied: charset-normalizer<4,>=2 in c:\\users\\jb5983on\\appdata\\local\\anaconda3\\envs\\polars\\lib\\site-packages (from requests<3.0.0,>=2.20.0->pyiceberg>=0.5.0->polars[all]) (3.3.2)\n",
      "Requirement already satisfied: idna<4,>=2.5 in c:\\users\\jb5983on\\appdata\\local\\anaconda3\\envs\\polars\\lib\\site-packages (from requests<3.0.0,>=2.20.0->pyiceberg>=0.5.0->polars[all]) (3.8)\n",
      "Requirement already satisfied: urllib3<3,>=1.21.1 in c:\\users\\jb5983on\\appdata\\local\\anaconda3\\envs\\polars\\lib\\site-packages (from requests<3.0.0,>=2.20.0->pyiceberg>=0.5.0->polars[all]) (2.2.2)\n",
      "Requirement already satisfied: certifi>=2017.4.17 in c:\\users\\jb5983on\\appdata\\local\\anaconda3\\envs\\polars\\lib\\site-packages (from requests<3.0.0,>=2.20.0->pyiceberg>=0.5.0->polars[all]) (2024.8.30)\n",
      "Requirement already satisfied: markdown-it-py>=2.2.0 in c:\\users\\jb5983on\\appdata\\local\\anaconda3\\envs\\polars\\lib\\site-packages (from rich<14.0.0,>=10.11.0->pyiceberg>=0.5.0->polars[all]) (3.0.0)\n",
      "Requirement already satisfied: pygments<3.0.0,>=2.13.0 in c:\\users\\jb5983on\\appdata\\local\\anaconda3\\envs\\polars\\lib\\site-packages (from rich<14.0.0,>=10.11.0->pyiceberg>=0.5.0->polars[all]) (2.18.0)\n",
      "Requirement already satisfied: zipp>=0.5 in c:\\users\\jb5983on\\appdata\\local\\anaconda3\\envs\\polars\\lib\\site-packages (from importlib-metadata->great-tables>=0.8.0->polars[all]) (3.20.1)\n",
      "Requirement already satisfied: MarkupSafe>=2.0 in c:\\users\\jb5983on\\appdata\\local\\anaconda3\\envs\\polars\\lib\\site-packages (from jinja2->altair>=5.4.0->polars[all]) (2.1.5)\n",
      "Requirement already satisfied: setuptools in c:\\users\\jb5983on\\appdata\\local\\anaconda3\\envs\\polars\\lib\\site-packages (from zope.event->gevent->polars[all]) (72.2.0)\n",
      "Requirement already satisfied: mdurl~=0.1 in c:\\users\\jb5983on\\appdata\\local\\anaconda3\\envs\\polars\\lib\\site-packages (from markdown-it-py>=2.2.0->rich<14.0.0,>=10.11.0->pyiceberg>=0.5.0->polars[all]) (0.1.2)\n",
      "Requirement already satisfied: more_polars in c:\\users\\jb5983on\\appdata\\local\\anaconda3\\envs\\polars\\lib\\site-packages (0.3.0)\n",
      "Requirement already satisfied: composable>=0.5.4 in c:\\users\\jb5983on\\appdata\\local\\anaconda3\\envs\\polars\\lib\\site-packages (from more_polars) (0.5.4)\n",
      "Requirement already satisfied: polars>=0.14.26 in c:\\users\\jb5983on\\appdata\\local\\anaconda3\\envs\\polars\\lib\\site-packages (from more_polars) (1.6.0)\n",
      "Requirement already satisfied: python-forge<19.0,>=18.6 in c:\\users\\jb5983on\\appdata\\local\\anaconda3\\envs\\polars\\lib\\site-packages (from composable>=0.5.4->more_polars) (18.6.0)\n",
      "Requirement already satisfied: toolz<0.12.0,>=0.11.1 in c:\\users\\jb5983on\\appdata\\local\\anaconda3\\envs\\polars\\lib\\site-packages (from composable>=0.5.4->more_polars) (0.11.2)\n"
     ]
    }
   ],
   "source": [
    "import polars as pl\n",
    "!pip install \"polars[all]\"\n",
    "!pip install more_polars"
   ]
  },
  {
   "cell_type": "code",
   "execution_count": 6,
   "id": "0b12bdc6-b4cd-4ee2-bcb7-c63d24fcafd4",
   "metadata": {},
   "outputs": [
    {
     "data": {
      "text/html": [
       "<div><style>\n",
       ".dataframe > thead > tr,\n",
       ".dataframe > tbody > tr {\n",
       "  text-align: right;\n",
       "  white-space: pre-wrap;\n",
       "}\n",
       "</style>\n",
       "<small>shape: (3, 45)</small><table border=\"1\" class=\"dataframe\"><thead><tr><th></th><th>F1</th><th>F5</th><th>F2</th><th>F1.1</th><th>F2.1</th><th>F6</th><th>F4</th><th>F3</th><th>F5.1</th><th>F1.2</th><th>F2.2</th><th>F6.1</th><th>F2.3</th><th>F4.1</th><th>F2.4</th><th>F5.2</th><th>F2.5</th><th>F6.2</th><th>F1.3</th><th>F2.6</th><th>F5.3</th><th>F4.2</th><th>F2.7</th><th>F3.1</th><th>F2.8</th><th>F5.4</th><th>F3.2</th><th>F1.4</th><th>F3.3</th><th>F1.5</th><th>F5.5</th><th>F6.3</th><th>F1.6</th><th>F5.6</th><th>F2.9</th><th>F3.4</th><th>F4.3</th><th>F2.10</th><th>F1.7</th><th>F6.4</th><th>F4.4</th><th>F5.7</th><th>F3.5</th><th>F2.11</th></tr><tr><td>i64</td><td>str</td><td>str</td><td>str</td><td>str</td><td>str</td><td>str</td><td>str</td><td>str</td><td>str</td><td>str</td><td>str</td><td>str</td><td>str</td><td>str</td><td>str</td><td>str</td><td>str</td><td>str</td><td>str</td><td>str</td><td>str</td><td>str</td><td>str</td><td>str</td><td>str</td><td>str</td><td>str</td><td>str</td><td>str</td><td>str</td><td>str</td><td>str</td><td>str</td><td>str</td><td>str</td><td>str</td><td>str</td><td>str</td><td>str</td><td>str</td><td>str</td><td>str</td><td>str</td><td>str</td></tr></thead><tbody><tr><td>1</td><td>&quot;Somewhat Agree&quot;</td><td>&quot;Somewhat Disagree&quot;</td><td>&quot;Somewhat Agree&quot;</td><td>&quot;Somewhat Agree&quot;</td><td>&quot;Somewhat Agree&quot;</td><td>&quot;Somewhat Disagree&quot;</td><td>&quot;Somewhat Agree&quot;</td><td>&quot;Somewhat Agree&quot;</td><td>&quot;Somewhat Agree&quot;</td><td>&quot;Somewhat Agree&quot;</td><td>&quot;Somewhat Agree&quot;</td><td>&quot;Somewhat Agree&quot;</td><td>&quot;Somewhat Agree&quot;</td><td>&quot;Somewhat Agree&quot;</td><td>&quot;Somewhat Agree&quot;</td><td>&quot;Somewhat Agree&quot;</td><td>&quot;Somewhat Agree&quot;</td><td>&quot;Somewhat Agree&quot;</td><td>&quot;Somewhat Agree&quot;</td><td>&quot;Somewhat Agree&quot;</td><td>&quot;Somewhat Agree&quot;</td><td>&quot;Somewhat Agree&quot;</td><td>&quot;Somewhat Agree&quot;</td><td>&quot;Somewhat Disagree&quot;</td><td>&quot;Somewhat Agree&quot;</td><td>&quot;Somewhat Agree&quot;</td><td>&quot;Somewhat Agree&quot;</td><td>&quot;Neither Agree nor Disagree&quot;</td><td>&quot;Somewhat Agree&quot;</td><td>&quot;Somewhat Agree&quot;</td><td>&quot;Somewhat Disagree&quot;</td><td>&quot;Somewhat Disagree&quot;</td><td>&quot;Somewhat Agree&quot;</td><td>&quot;Somewhat Agree&quot;</td><td>&quot;Somewhat Agree&quot;</td><td>&quot;Somewhat Disagree&quot;</td><td>&quot;Neither Agree nor Disagree&quot;</td><td>&quot;Somewhat Agree&quot;</td><td>&quot;Somewhat Agree&quot;</td><td>&quot;Somewhat Agree&quot;</td><td>&quot;Somewhat Agree&quot;</td><td>&quot;Somewhat Agree&quot;</td><td>&quot;Somewhat Agree&quot;</td><td>&quot;Somewhat Agree&quot;</td></tr><tr><td>2</td><td>&quot;Somewhat Agree&quot;</td><td>&quot;Somewhat Disagree&quot;</td><td>&quot;Somewhat Agree&quot;</td><td>&quot;Somewhat Agree&quot;</td><td>&quot;Somewhat Agree&quot;</td><td>&quot;Somewhat Disagree&quot;</td><td>&quot;Somewhat Agree&quot;</td><td>&quot;Neither Agree nor Disagree&quot;</td><td>&quot;Neither Agree nor Disagree&quot;</td><td>&quot;Somewhat Agree&quot;</td><td>&quot;Neither Agree nor Disagree&quot;</td><td>&quot;Somewhat Agree&quot;</td><td>&quot;Somewhat Agree&quot;</td><td>&quot;Neither Agree nor Disagree&quot;</td><td>&quot;Somewhat Agree&quot;</td><td>&quot;Somewhat Agree&quot;</td><td>&quot;Somewhat Agree&quot;</td><td>&quot;Somewhat Agree&quot;</td><td>&quot;Somewhat Agree&quot;</td><td>&quot;Somewhat Agree&quot;</td><td>&quot;Somewhat Agree&quot;</td><td>&quot;Somewhat Agree&quot;</td><td>&quot;Somewhat Agree&quot;</td><td>&quot;Neither Agree nor Disagree&quot;</td><td>&quot;Somewhat Agree&quot;</td><td>&quot;Neither Agree nor Disagree&quot;</td><td>&quot;Neither Agree nor Disagree&quot;</td><td>&quot;Somewhat Agree&quot;</td><td>&quot;Neither Agree nor Disagree&quot;</td><td>&quot;Neither Agree nor Disagree&quot;</td><td>&quot;Neither Agree nor Disagree&quot;</td><td>&quot;Somewhat Disagree&quot;</td><td>&quot;Somewhat Agree&quot;</td><td>&quot;Somewhat Disagree&quot;</td><td>&quot;Somewhat Agree&quot;</td><td>&quot;Somewhat Agree&quot;</td><td>&quot;Neither Agree nor Disagree&quot;</td><td>&quot;Somewhat Agree&quot;</td><td>&quot;Somewhat Agree&quot;</td><td>&quot;Somewhat Disagree&quot;</td><td>&quot;Neither Agree nor Disagree&quot;</td><td>&quot;Somewhat Agree&quot;</td><td>&quot;Neither Agree nor Disagree&quot;</td><td>&quot;Somewhat Agree&quot;</td></tr><tr><td>3</td><td>&quot;Strongly Agree&quot;</td><td>&quot;Neither Agree nor Disagree&quot;</td><td>&quot;Somewhat Agree&quot;</td><td>&quot;Strongly Agree&quot;</td><td>&quot;Strongly Agree&quot;</td><td>&quot;Somewhat Disagree&quot;</td><td>&quot;Somewhat Agree&quot;</td><td>&quot;Somewhat Agree&quot;</td><td>&quot;Somewhat Agree&quot;</td><td>&quot;Strongly Agree&quot;</td><td>&quot;Somewhat Agree&quot;</td><td>&quot;Neither Agree nor Disagree&quot;</td><td>&quot;Somewhat Agree&quot;</td><td>&quot;Neither Agree nor Disagree&quot;</td><td>&quot;Somewhat Agree&quot;</td><td>&quot;Somewhat Disagree&quot;</td><td>&quot;Strongly Agree&quot;</td><td>&quot;Somewhat Agree&quot;</td><td>&quot;Strongly Agree&quot;</td><td>&quot;Somewhat Agree&quot;</td><td>&quot;Somewhat Agree&quot;</td><td>&quot;Somewhat Agree&quot;</td><td>&quot;&quot;</td><td>&quot;Somewhat Disagree&quot;</td><td>&quot;Somewhat Agree&quot;</td><td>&quot;Somewhat Agree&quot;</td><td>&quot;Somewhat Agree&quot;</td><td>&quot;Somewhat Disagree&quot;</td><td>&quot;Somewhat Agree&quot;</td><td>&quot;Strongly Agree&quot;</td><td>&quot;Somewhat Disagree&quot;</td><td>&quot;Somewhat Disagree&quot;</td><td>&quot;Strongly Agree&quot;</td><td>&quot;Somewhat Disagree&quot;</td><td>&quot;Somewhat Agree&quot;</td><td>&quot;Somewhat Agree&quot;</td><td>&quot;Neither Agree nor Disagree&quot;</td><td>&quot;Somewhat Agree&quot;</td><td>&quot;Somewhat Agree&quot;</td><td>&quot;Somewhat Agree&quot;</td><td>&quot;Somewhat Agree&quot;</td><td>&quot;Strongly Agree&quot;</td><td>&quot;Strongly Disagree&quot;</td><td>&quot;Somewhat Agree&quot;</td></tr></tbody></table></div>"
      ],
      "text/plain": [
       "shape: (3, 45)\n",
       "┌─────┬────────────┬────────────┬────────────┬───┬────────────┬────────────┬───────────┬───────────┐\n",
       "│     ┆ F1         ┆ F5         ┆ F2         ┆ … ┆ F4.4       ┆ F5.7       ┆ F3.5      ┆ F2.11     │\n",
       "│ --- ┆ ---        ┆ ---        ┆ ---        ┆   ┆ ---        ┆ ---        ┆ ---       ┆ ---       │\n",
       "│ i64 ┆ str        ┆ str        ┆ str        ┆   ┆ str        ┆ str        ┆ str       ┆ str       │\n",
       "╞═════╪════════════╪════════════╪════════════╪═══╪════════════╪════════════╪═══════════╪═══════════╡\n",
       "│ 1   ┆ Somewhat   ┆ Somewhat   ┆ Somewhat   ┆ … ┆ Somewhat   ┆ Somewhat   ┆ Somewhat  ┆ Somewhat  │\n",
       "│     ┆ Agree      ┆ Disagree   ┆ Agree      ┆   ┆ Agree      ┆ Agree      ┆ Agree     ┆ Agree     │\n",
       "│ 2   ┆ Somewhat   ┆ Somewhat   ┆ Somewhat   ┆ … ┆ Neither    ┆ Somewhat   ┆ Neither   ┆ Somewhat  │\n",
       "│     ┆ Agree      ┆ Disagree   ┆ Agree      ┆   ┆ Agree nor  ┆ Agree      ┆ Agree nor ┆ Agree     │\n",
       "│     ┆            ┆            ┆            ┆   ┆ Disagree   ┆            ┆ Disagree  ┆           │\n",
       "│ 3   ┆ Strongly   ┆ Neither    ┆ Somewhat   ┆ … ┆ Somewhat   ┆ Strongly   ┆ Strongly  ┆ Somewhat  │\n",
       "│     ┆ Agree      ┆ Agree nor  ┆ Agree      ┆   ┆ Agree      ┆ Agree      ┆ Disagree  ┆ Agree     │\n",
       "│     ┆            ┆ Disagree   ┆            ┆   ┆            ┆            ┆           ┆           │\n",
       "└─────┴────────────┴────────────┴────────────┴───┴────────────┴────────────┴───────────┴───────────┘"
      ]
     },
     "execution_count": 6,
     "metadata": {},
     "output_type": "execute_result"
    }
   ],
   "source": [
    "healthD = pl.read_csv('./Data/health_survey.csv')\n",
    "\n",
    "healthD.head(3)"
   ]
  },
  {
   "cell_type": "code",
   "execution_count": 8,
   "id": "c7e94e33-e0a6-49aa-88ad-83ff9e87924a",
   "metadata": {},
   "outputs": [
    {
     "data": {
      "text/html": [
       "<div><style>\n",
       ".dataframe > thead > tr,\n",
       ".dataframe > tbody > tr {\n",
       "  text-align: right;\n",
       "  white-space: pre-wrap;\n",
       "}\n",
       "</style>\n",
       "<small>shape: (0, 184)</small><table border=\"1\" class=\"dataframe\"><thead><tr><th>Question</th><th>Construct</th><th>Question # on Qualtrics Survey</th><th>Needs Reverse Coding?</th><th>Column Name\r",
       "&quot;In the future</th><th> I plan to participate in a community service organization&quot;</th><th>1</th><th>1_duplicated_0</th><th>No</th><th>F1\r",
       "Individuals are responsible for their own misforturnes</th><th>5</th><th>2</th><th>Yes</th><th>F5\r",
       "&quot;When tryng to understand the position of others</th><th> I try to palce myself in their position&quot;</th><th>2_duplicated_0</th><th>3</th><th>No_duplicated_0</th><th>F2\r",
       "I plan to become involved in my community </th><th>1_duplicated_1</th><th>4</th><th>No_duplicated_1</th><th>F1.1\r",
       "I can communicate well with others</th><th>2_duplicated_1</th><th>5_duplicated_0</th><th>No_duplicated_2</th><th>F2.1\r",
       "It is hard for a group to function effectively when the people involved come from very diverse backgrounds</th><th>6</th><th>6_duplicated_0</th><th>Yes_duplicated_0</th><th>F6\r",
       "I feel that I can make a difference in the world</th><th>4_duplicated_0</th><th>7</th><th>No_duplicated_3</th><th>F4\r",
       "I am knowledgable of the issues facing the world</th><th>3_duplicated_0</th><th>8</th><th>&hellip;</th><th>F2.9\r",
       "I understand the issues facing my city&#x27;s community</th><th>3_duplicated_4</th><th>36</th><th>No_duplicated_27</th><th>F3.4\r",
       "I would rather have sombody else take the lead in fomrulating a solution</th><th>4_duplicated_3</th><th>37</th><th>Yes_duplicated_6</th><th>F4.3\r",
       "I can think analytically in solving problems</th><th>2_duplicated_10</th><th>38</th><th>No_duplicated_28</th><th>F2.10\r",
       "I plan to participate in a community action program</th><th>1_duplicated_7</th><th>39</th><th>No_duplicated_29</th><th>F1.7\r",
       "I prefer the company of people who are very similar to me in background and expressions</th><th>6_duplicated_4</th><th>40</th><th>Yes_duplicated_7</th><th>F6.4\r",
       "I have the ability to lead a group of people</th><th>4_duplicated_4</th><th>41</th><th>No_duplicated_30</th><th>F4.4\r",
       "It is important to me that equal opportunity be available to all people</th><th>5_duplicated_7</th><th>42</th><th>No_duplicated_31</th><th>F5.7\r",
       "I plan to be involved in the political process</th><th>3_duplicated_5</th><th>43</th><th>No_duplicated_32</th><th>F3.5\r",
       "I can successfully resolve conflicts with others </th><th>2_duplicated_11</th><th>44</th><th>No_duplicated_33</th><th>F2.11</th></tr><tr><td>str</td><td>str</td><td>str</td><td>str</td><td>str</td><td>str</td><td>str</td><td>str</td><td>str</td><td>str</td><td>str</td><td>str</td><td>str</td><td>str</td><td>str</td><td>str</td><td>str</td><td>str</td><td>str</td><td>str</td><td>str</td><td>str</td><td>str</td><td>str</td><td>str</td><td>str</td><td>str</td><td>str</td><td>str</td><td>str</td><td>str</td><td>str</td><td>str</td><td>str</td><td>str</td><td>str</td><td>str</td><td>&hellip;</td><td>str</td><td>str</td><td>str</td><td>str</td><td>str</td><td>str</td><td>str</td><td>str</td><td>str</td><td>str</td><td>str</td><td>str</td><td>str</td><td>str</td><td>str</td><td>str</td><td>str</td><td>str</td><td>str</td><td>str</td><td>str</td><td>str</td><td>str</td><td>str</td><td>str</td><td>str</td><td>str</td><td>str</td><td>str</td><td>str</td><td>str</td><td>str</td><td>str</td><td>str</td><td>str</td><td>str</td><td>str</td></tr></thead><tbody></tbody></table></div>"
      ],
      "text/plain": [
       "shape: (0, 184)\n",
       "┌──────────┬───────────┬───────────────┬─────────┬───┬───────────────┬─────┬───────────────┬───────┐\n",
       "│ Question ┆ Construct ┆ Question # on ┆ Needs   ┆ … ┆ 2_duplicated_ ┆ 44  ┆ No_duplicated ┆ F2.11 │\n",
       "│ ---      ┆ ---       ┆ Qualtrics     ┆ Reverse ┆   ┆ 11            ┆ --- ┆ _33           ┆ ---   │\n",
       "│ str      ┆ str       ┆ Survey        ┆ Coding? ┆   ┆ ---           ┆ str ┆ ---           ┆ str   │\n",
       "│          ┆           ┆ ---           ┆ ---     ┆   ┆ str           ┆     ┆ str           ┆       │\n",
       "│          ┆           ┆ str           ┆ str     ┆   ┆               ┆     ┆               ┆       │\n",
       "╞══════════╪═══════════╪═══════════════╪═════════╪═══╪═══════════════╪═════╪═══════════════╪═══════╡\n",
       "└──────────┴───────────┴───────────────┴─────────┴───┴───────────────┴─────┴───────────────┴───────┘"
      ]
     },
     "execution_count": 8,
     "metadata": {},
     "output_type": "execute_result"
    }
   ],
   "source": [
    "reverseD = pl.read_csv('./Data/ReverseCodingItems2.csv')\n",
    "\n",
    "reverseD.head(3)"
   ]
  },
  {
   "cell_type": "code",
   "execution_count": 17,
   "id": "0384b9d8-b48b-48e7-a71a-795d9c6e8ba7",
   "metadata": {},
   "outputs": [
    {
     "ename": "SyntaxError",
     "evalue": "invalid syntax (502474517.py, line 2)",
     "output_type": "error",
     "traceback": [
      "\u001b[1;36m  Cell \u001b[1;32mIn[17], line 2\u001b[1;36m\u001b[0m\n\u001b[1;33m    .unpivot(from(pl.col('F1')),\u001b[0m\n\u001b[1;37m             ^\u001b[0m\n\u001b[1;31mSyntaxError\u001b[0m\u001b[1;31m:\u001b[0m invalid syntax\n"
     ]
    }
   ],
   "source": [
    "health_stacked = (healthD\n",
    "                 .unpivot(from(pl.col('F1')), \n",
    "                          index='', \n",
    "                          variable_name='Question', \n",
    "                          value_name='Response')\n",
    "                )\n",
    "health_stacked"
   ]
  },
  {
   "cell_type": "code",
   "execution_count": null,
   "id": "4cffe392-612c-44c0-8228-7873a5ae997f",
   "metadata": {},
   "outputs": [],
   "source": []
  }
 ],
 "metadata": {
  "kernelspec": {
   "display_name": "Python 3 (ipykernel)",
   "language": "python",
   "name": "python3"
  },
  "language_info": {
   "codemirror_mode": {
    "name": "ipython",
    "version": 3
   },
   "file_extension": ".py",
   "mimetype": "text/x-python",
   "name": "python",
   "nbconvert_exporter": "python",
   "pygments_lexer": "ipython3",
   "version": "3.12.5"
  }
 },
 "nbformat": 4,
 "nbformat_minor": 5
}
